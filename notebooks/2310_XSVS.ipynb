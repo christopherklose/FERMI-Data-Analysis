{
 "cells": [
  {
   "cell_type": "markdown",
   "id": "ca3cf2d7-2457-4192-a09d-17205316c390",
   "metadata": {},
   "source": [
    "# Imports\n",
    "\n",
    "Import python libraries as well as the self written FERMI library."
   ]
  },
  {
   "cell_type": "code",
   "execution_count": null,
   "id": "f23e3c2a-2ea2-4dd9-bbee-946f5ea2e63b",
   "metadata": {
    "tags": []
   },
   "outputs": [],
   "source": [
    "import sys, os\n",
    "from os.path import join, split\n",
    "from getpass import getuser\n",
    "from glob import glob\n",
    "from time import strftime\n",
    "from importlib import reload\n",
    "from copy import deepcopy\n",
    "from tqdm.auto import tqdm\n",
    "\n",
    "# data\n",
    "import numpy as np\n",
    "import xarray as xr\n",
    "import pandas as pd\n",
    "import h5py\n",
    "\n",
    "# Images\n",
    "import imageio\n",
    "from imageio import imread\n",
    "\n",
    "# Plotting\n",
    "import matplotlib.pyplot as plt\n",
    "from matplotlib.image import NonUniformImage\n",
    "import matplotlib.gridspec as gridspec\n",
    "from matplotlib.path import Path\n",
    "\n",
    "# pyFAI\n",
    "import pyFAI\n",
    "\n",
    "pyFAI.disable_opencl = True  # get rid of annoying warning ;)\n",
    "from pyFAI.azimuthalIntegrator import AzimuthalIntegrator\n",
    "from pyFAI.detectors import Detector\n",
    "\n",
    "# Scipy\n",
    "from scipy.ndimage.filters import median_filter\n",
    "\n",
    "# Self-written libraries\n",
    "import process_FERMI as pf\n",
    "from process_FERMI import interactive\n",
    "from proces_FERMI.interactive import cimshow"
   ]
  },
  {
   "cell_type": "code",
   "execution_count": null,
   "id": "7eaab566-6897-4851-b873-c479ed2fe8cd",
   "metadata": {
    "tags": []
   },
   "outputs": [],
   "source": [
    "# interactive plotting\n",
    "import ipywidgets\n",
    "\n",
    "%matplotlib widget\n",
    "plt.rcParams[\"figure.constrained_layout.use\"] = True\n",
    "\n",
    "# Auto formatting of cells\n",
    "%load_ext jupyter_black"
   ]
  },
  {
   "cell_type": "markdown",
   "id": "c1f14226-52e7-4302-819e-4a978a5dc306",
   "metadata": {},
   "source": [
    "## Functions"
   ]
  },
  {
   "cell_type": "code",
   "execution_count": null,
   "id": "2e20adb7-4c11-45bd-99d1-1b41d36cd5d0",
   "metadata": {},
   "outputs": [],
   "source": [
    "def create_folder(folder):\n",
    "    \"\"\"\n",
    "    Creates input folder if it does not exist yet\n",
    "    \"\"\"\n",
    "\n",
    "    if not (os.path.exists(folder)):\n",
    "        print(\"Creating folder \" + folder)\n",
    "        os.makedirs(folder)\n",
    "    return folder"
   ]
  },
  {
   "cell_type": "code",
   "execution_count": null,
   "id": "a9f596af-b1a1-49cb-9b43-e9690731c9da",
   "metadata": {},
   "outputs": [],
   "source": [
    "def preprocess_exp(datafolder, extension, keys=None, sort=False, full_rate=False):\n",
    "    # Loading experiment data\n",
    "    print(\"Loading: %s\" % (datafolder + extension))\n",
    "    exp = pf.get_exp_dataframe(datafolder + extension, keys=keys)\n",
    "    for k in [\"xgm_UH\", \"xgm_SH\", \"diode_sum\"]:\n",
    "        exp[k + \"_sum\"] = exp[k].apply(np.sum)\n",
    "\n",
    "    exp[\"diode_sum_mean\"] = exp.diode_sum.apply(np.mean)\n",
    "    exp[\"diode_sum_sum\"] = exp.diode_sum.apply(np.sum)\n",
    "    exp[\"diode_sum_std\"] = exp.diode_sum.apply(np.std)\n",
    "    exp[\"IR_mean\"] = exp.IR.apply(np.mean)\n",
    "    exp[\"IR_std\"] = exp.IR.apply(np.std)\n",
    "    exp[\"magnet_mean\"] = exp.magnet.apply(np.mean)\n",
    "    exp[\"magnet_mean\"] = exp.magnet_mean.apply(np.round, args=(3,))\n",
    "    exp[\"bunchid\"] = exp.bunches.apply(lambda l: l[-1])\n",
    "\n",
    "    return exp"
   ]
  },
  {
   "cell_type": "code",
   "execution_count": null,
   "id": "185da7b5-970c-4efa-9870-f96dc6252022",
   "metadata": {},
   "outputs": [],
   "source": [
    "# Draw circle mask\n",
    "def circle_mask(shape, center, radius, sigma=\"none\"):\n",
    "    \"\"\"\n",
    "    Draws circle mask with option to apply gaussian filter for smoothing\n",
    "\n",
    "    Parameter\n",
    "    =========\n",
    "    shape : int tuple\n",
    "        shape/dimension of output array\n",
    "    center : int tuple\n",
    "        center coordinates (ycenter,xcenter)\n",
    "    radius : scalar\n",
    "        radius of mask in px. Care: diameter is always (2*radius+1) px\n",
    "    sigma : scalar\n",
    "        std of gaussian filter\n",
    "\n",
    "    Output\n",
    "    ======\n",
    "    mask: array\n",
    "        binary mask, or smoothed binary mask\n",
    "    ======\n",
    "    author: ck 2022\n",
    "    \"\"\"\n",
    "\n",
    "    # setup array\n",
    "    x = np.linspace(0, shape[1] - 1, shape[1])\n",
    "    y = np.linspace(0, shape[0] - 1, shape[0])\n",
    "    X, Y = np.meshgrid(x, y)\n",
    "\n",
    "    # define circle\n",
    "    mask = np.sqrt(((X - center[1]) ** 2 + (Y - center[0]) ** 2)) <= (radius)\n",
    "    mask = mask.astype(float)\n",
    "\n",
    "    # smooth aperture\n",
    "    if sigma != \"none\":\n",
    "        mask = scipy.ndimage.filters.gaussian_filter(mask, sigma)\n",
    "\n",
    "    return mask\n",
    "\n",
    "\n",
    "def create_single_polygon_mask(shape, coordinates):\n",
    "    \"\"\"\n",
    "    Creates a polygon mask from coordinates of corner points\n",
    "\n",
    "    Parameter\n",
    "    =========\n",
    "    shape : int tuple\n",
    "        shape/dimension of output array\n",
    "    coordinates: nested list\n",
    "        coordinates of polygon corner points [[yc_1,xc_1],[yc_2,xc_2],...]\n",
    "\n",
    "\n",
    "    Output\n",
    "    ======\n",
    "    mask: array\n",
    "        binary mask where filled polygon is \"1\"\n",
    "    ======\n",
    "    author: ck 2023\n",
    "    \"\"\"\n",
    "\n",
    "    x, y = np.meshgrid(np.arange(shape[0]), np.arange(shape[1]))\n",
    "    x, y = x.flatten(), y.flatten()\n",
    "\n",
    "    points = np.vstack((x, y)).T\n",
    "\n",
    "    path = Path(coordinates)\n",
    "    mask = path.contains_points(points)\n",
    "    mask = mask.reshape(shape)\n",
    "    return mask\n",
    "\n",
    "\n",
    "def create_polygon_mask(shape, coordinates):\n",
    "    \"\"\"\n",
    "    Creates multiple polygon masks from set of coordinates of corner points\n",
    "\n",
    "    Parameter\n",
    "    =========\n",
    "    shape : int tuple\n",
    "        shape/dimension of output array\n",
    "    coordinates: nested list\n",
    "        coordinates of polygon corner points for multiple polygons\n",
    "        [[[yc_1,xc_1],[yc_2,xc_2],...],[[yc_1,xc_1],[yc_2,xc_2],...]]\n",
    "\n",
    "    Output\n",
    "    ======\n",
    "    mask: array\n",
    "        binary mask where filled polygons are \"1\"\n",
    "    ======\n",
    "    author: ck 2023\n",
    "    \"\"\"\n",
    "\n",
    "    if len(coordinates) == 1:\n",
    "        mask = create_single_polygon_mask(shape, coordinates[0])\n",
    "    elif len(coordinates) > 1:\n",
    "        mask = np.zeros(shape)\n",
    "        for coord in coordinates:\n",
    "            mask = mask + create_single_polygon_mask(shape, coord)\n",
    "            mask[mask > 1] = 1\n",
    "\n",
    "    return mask\n",
    "\n",
    "\n",
    "def load_poly_masks(polygon_name_list, shape):\n",
    "    \"\"\"\n",
    "    Loads set of polygon masks based on stored coordinates\n",
    "\n",
    "    Parameter\n",
    "    =========\n",
    "    polygon_name_list : list\n",
    "        shape/dimension of output array\n",
    "\n",
    "\n",
    "    Output\n",
    "    ======\n",
    "    mask: array\n",
    "        binary mask where filled polygons are \"1\"\n",
    "    ======\n",
    "    author: ck 2023\n",
    "    \"\"\"\n",
    "\n",
    "    mask = []\n",
    "    for polygon_name in polygon_name_list:\n",
    "        coord = load_poly_coordinates(polygon_name)\n",
    "        mask.append(create_polygon_mask(shape, [coord]).astype(float))\n",
    "\n",
    "    mask = np.array(mask)\n",
    "    mask = np.sum(mask, axis=0)\n",
    "    mask[mask > 1] = 1\n",
    "\n",
    "    return mask"
   ]
  },
  {
   "cell_type": "markdown",
   "id": "b03be2e5-5396-4740-bde3-38d454a99740",
   "metadata": {},
   "source": [
    "# Experimental details"
   ]
  },
  {
   "cell_type": "code",
   "execution_count": null,
   "id": "a2dc923e-26eb-4737-8b61-668e7b7a5001",
   "metadata": {},
   "outputs": [],
   "source": [
    "# Define basic folders\n",
    "BASEFOLDER = r\"/net/online4diproi/store/\"\n",
    "PROPOSAL = \"20224053\"\n",
    "basefolder = join(BASEFOLDER, PROPOSAL)\n",
    "USER = getuser()"
   ]
  },
  {
   "cell_type": "code",
   "execution_count": null,
   "id": "99e7eeea-f773-4a19-a480-7aa450db04ff",
   "metadata": {},
   "outputs": [],
   "source": [
    "# Dict with most basic experimental parameter\n",
    "experimental_setup = {\n",
    "    \"ccd_dist\": 0.103,  # ccd to sample distance\n",
    "    \"px_size\": 11e-6,  # pixel_size of camera\n",
    "    \"binning\": 1,  # Camera binning\n",
    "}\n",
    "\n",
    "# Setup for azimuthal integrator\n",
    "detector = Detector(\n",
    "    experimental_setup[\"binning\"] * experimental_setup[\"px_size\"],\n",
    "    experimental_setup[\"binning\"] * experimental_setup[\"px_size\"],\n",
    ")\n",
    "\n",
    "# General saving folder\n",
    "folder_general = create_folder(join(basefolder, \"results\", \"processed\", USER))\n",
    "print(\"Output Folder: %s\" % folder_general)"
   ]
  },
  {
   "cell_type": "markdown",
   "id": "d61d3ca4-25ec-4d55-8bae-8541fe65096c",
   "metadata": {},
   "source": [
    "# Load Data"
   ]
  },
  {
   "cell_type": "markdown",
   "id": "3961f6d3-65ad-4dfa-acde-a63759a268ff",
   "metadata": {},
   "source": [
    "## Define Scan ids for loading"
   ]
  },
  {
   "cell_type": "code",
   "execution_count": null,
   "id": "9a485bb3-36fa-4b71-9be6-7e9a845d25d4",
   "metadata": {
    "tags": []
   },
   "outputs": [],
   "source": [
    "# Define for loading\n",
    "sample = \"S2205ref\"\n",
    "membrane = \"I7\"\n",
    "scan_id = 185\n",
    "IR_delay = 500\n",
    "scan = f\"%s_XPCS_IR%03dps_ScanB_%03d\" % (membrane, IR_delay, scan_id)\n",
    "scan_axis = \"delay_ACDC\"\n",
    "full_rate = True\n",
    "\n",
    "# Time-zero for delay scans\n",
    "t0 = 9.925\n",
    "\n",
    "# Folder for loading\n",
    "samplefolder = join(sample, scan)\n",
    "datafolder = join(basefolder, samplefolder)\n",
    "extra_keys = {\n",
    "    \"diode_sum\": \"PAM/FQPDSum\",\n",
    "    \"IR\": \"Laser/Energy1\",\n",
    "    \"magnet\": \"DPI/CoilCurrent\",\n",
    "    \"bunches\": \"bunches\",\n",
    "    \"time\": \"\",\n",
    "    \"global_delay\": \"Laser/DelayTotem\",\n",
    "}\n",
    "\n",
    "# Create savefolder\n",
    "fsave = create_folder(join(folder_general, sample, membrane))"
   ]
  },
  {
   "cell_type": "markdown",
   "id": "01bed7b2-04a1-4279-81ec-a6edb2b4a8c0",
   "metadata": {},
   "source": [
    "## Pumped images"
   ]
  },
  {
   "cell_type": "code",
   "execution_count": null,
   "id": "2eadc7f0-c216-495b-a516-740b3d2a2cac",
   "metadata": {},
   "outputs": [],
   "source": [
    "def filter_images(data):\n",
    "    # Filter empty images\n",
    "    data[\"images_max\"] = data.images.max([\"y\", \"x\"])\n",
    "    data = data.where(data[\"images_max\"] > 1)\n",
    "\n",
    "    # Filter data with too high or low fel intensity\n",
    "    data = data.where(\n",
    "        np.abs(data[filter_key] - data[filter_key].mean(\"index\"))\n",
    "        < 2 * data[filter_key].std(\"index\")\n",
    "    )\n",
    "\n",
    "    # Calc Averaged images and intensity\n",
    "    data[\"images_mean\"] = data[\"images\"].mean(\"index\")\n",
    "    data[filter_key + \"_sum\"] = data[filter_key].sum(\"index\")\n",
    "\n",
    "    return data"
   ]
  },
  {
   "cell_type": "code",
   "execution_count": null,
   "id": "7a044fa1-3665-4e2d-83d2-bb57c1652acd",
   "metadata": {},
   "outputs": [],
   "source": [
    "def process_images(exp):\n",
    "    # Loading image data\n",
    "    data = xr.Dataset()\n",
    "    data[\"images\"] = xr.DataArray(\n",
    "        [\n",
    "            pf.loadh5(fname, extra_keys=[\"alignz\", \"PAM/FQPDSum\"], full_rate=full_rate)[\n",
    "                0\n",
    "            ].astype(np.uint16)\n",
    "            for fname in exp[\"filename\"]\n",
    "        ],\n",
    "        dims=[\"delay_idx\", \"index\", \"y\", \"x\"],\n",
    "    )\n",
    "    data[scan_axis] = xr.DataArray(exp[scan_axis], dims=[\"delay_idx\"])\n",
    "    data[filter_key] = xr.DataArray(\n",
    "        np.stack(exp[filter_key]), dims=[\"delay_idx\", \"index\"]\n",
    "    )\n",
    "\n",
    "    # Filter images\n",
    "    data = filter_images(data)\n",
    "\n",
    "    data[\"time\"] = xr.DataArray(exp[\"time\"], dims=[\"delay_idx\"])\n",
    "\n",
    "    return data"
   ]
  },
  {
   "cell_type": "code",
   "execution_count": null,
   "id": "eab81461-0089-443d-9174-45bfbded813e",
   "metadata": {},
   "outputs": [],
   "source": [
    "# Loading experiment data\n",
    "end = 5\n",
    "filter_key = \"diode_sum\"\n",
    "norm_key = \"diode_sum\"\n",
    "extension = \"\"\n",
    "exp = preprocess_exp(datafolder, extension, keys=extra_keys, full_rate=full_rate)\n",
    "exp = exp[:end]\n",
    "\n",
    "# delay scan\n",
    "exp[\"delay_ps\"] = 6.67 * (exp[\"delay\"] - t0) + (600 - exp[\"global_delay\"])\n",
    "exp = exp.sort_values(scan_axis)\n",
    "\n",
    "# Add wavelength\n",
    "experimental_setup[\"lambda\"] = exp[\"wavelength\"][0] * 1e-9\n",
    "\n",
    "# Load data\n",
    "data = process_images(exp)\n",
    "data[scan_axis] = data[scan_axis].mean(\"index\")\n",
    "\n",
    "print(\"Data loaded!\")"
   ]
  },
  {
   "cell_type": "code",
   "execution_count": null,
   "id": "d0fb85f2-8dcc-4e0a-ae70-c5c74c9fe57a",
   "metadata": {},
   "outputs": [],
   "source": [
    "# What did you scan?\n",
    "fig, ax = plt.subplots()\n",
    "ax.plot(np.arange(len(data[scan_axis])), data[scan_axis], \"-o\")\n",
    "ax.set_xlabel(\"Index\")\n",
    "ax.set_ylabel(scan_axis)\n",
    "ax.grid()"
   ]
  },
  {
   "cell_type": "code",
   "execution_count": null,
   "id": "fb6cd148-8459-4e92-ad6c-eeef0760761f",
   "metadata": {
    "tags": []
   },
   "outputs": [],
   "source": [
    "# Plot images\n",
    "fig, ax = cimshow(data[\"images_mean\"])\n",
    "fig.set_size_inches(6, 6)\n",
    "ax.set_title(\"Pumped Images\")"
   ]
  },
  {
   "cell_type": "markdown",
   "id": "6ce29c15-2739-45bd-af29-9710e4f98d18",
   "metadata": {},
   "source": [
    "## Dark images"
   ]
  },
  {
   "cell_type": "code",
   "execution_count": null,
   "id": "82fd16cb-4d61-496a-92d0-59bd23c9a006",
   "metadata": {},
   "outputs": [],
   "source": [
    "# Loading experiment data\n",
    "extension = \"_BG\"\n",
    "exp_bg = preprocess_exp(datafolder, extension, keys=extra_keys)\n",
    "exp_bg = exp_bg.sort_values(\"time\")\n",
    "\n",
    "# Loading image data\n",
    "dark = process_images(exp_bg)\n",
    "\n",
    "# Drop single frames\n",
    "dark = dark.drop_dims(\"index\")\n",
    "dark = dark.swap_dims({\"delay_idx\": \"time\"})\n",
    "\n",
    "print(\"Data loaded!\")"
   ]
  },
  {
   "cell_type": "code",
   "execution_count": null,
   "id": "15c011af-0259-4ac1-bce6-53c637ffb371",
   "metadata": {
    "tags": []
   },
   "outputs": [],
   "source": [
    "# Plot images\n",
    "fig, ax = cimshow(dark[\"images_mean\"])\n",
    "fig.set_size_inches(6, 6)\n",
    "ax.set_title(\"Dark Images\")"
   ]
  },
  {
   "cell_type": "markdown",
   "id": "d8367196-1bf9-42d9-973c-1710e3b23b02",
   "metadata": {},
   "source": [
    "## Laser only"
   ]
  },
  {
   "cell_type": "code",
   "execution_count": null,
   "id": "da74944f-bace-4ec5-b88c-0c476512b405",
   "metadata": {},
   "outputs": [],
   "source": [
    "# Loading experiment data\n",
    "extension = \"_OL\"\n",
    "exp_ol = preprocess_exp(datafolder, extension, keys=extra_keys)\n",
    "exp_ol = exp_ol.sort_values(\"time\")\n",
    "\n",
    "# Loading image data\n",
    "dark_ol = process_images(exp_ol)\n",
    "\n",
    "# Drop single frames\n",
    "dark_ol = dark_ol.drop_dims(\"index\")\n",
    "dark_ol = dark_ol.swap_dims({\"delay_idx\": \"time\"})\n",
    "\n",
    "print(\"Data loaded!\")"
   ]
  },
  {
   "cell_type": "code",
   "execution_count": null,
   "id": "af025404-a7ac-470f-b21f-c062c2b9c04f",
   "metadata": {
    "tags": []
   },
   "outputs": [],
   "source": [
    "# Plot images\n",
    "fig, ax = cimshow(dark_ol[\"images_mean\"])\n",
    "fig.set_size_inches(6, 6)\n",
    "ax.set_title(\"Only Laser Images\")"
   ]
  },
  {
   "cell_type": "markdown",
   "id": "b8d8d5fb-9129-4788-a926-17a90864b464",
   "metadata": {},
   "source": [
    "## FEL only"
   ]
  },
  {
   "cell_type": "code",
   "execution_count": null,
   "id": "7d69b418-fddf-46ef-a1bf-e93eb346e18e",
   "metadata": {},
   "outputs": [],
   "source": [
    "# Loading experiment data\n",
    "extension = \"_OF\"\n",
    "exp_of = preprocess_exp(datafolder, extension, keys=extra_keys)\n",
    "exp_of = exp_of.sort_values(\"time\")\n",
    "\n",
    "# Loading image data\n",
    "dark_of = process_images(exp_of)\n",
    "\n",
    "# Drop single frames\n",
    "dark_of = dark_of.drop_dims(\"index\")\n",
    "dark_of = dark_of.swap_dims({\"delay_idx\": \"time\"})\n",
    "\n",
    "print(\"Data loaded!\")"
   ]
  },
  {
   "cell_type": "code",
   "execution_count": null,
   "id": "92b8643e-6852-4dd0-b73f-ad4e94bbafef",
   "metadata": {
    "tags": []
   },
   "outputs": [],
   "source": [
    "# Plot images\n",
    "fig, ax = cimshow(dark_of[\"images_mean\"])\n",
    "fig.set_size_inches(6, 6)\n",
    "ax.set_title(\"Only FEL Images\")"
   ]
  },
  {
   "cell_type": "markdown",
   "id": "2ec17a9a-2b66-43f0-ab4b-a54079eb3e72",
   "metadata": {},
   "source": [
    "# Preprocessing"
   ]
  },
  {
   "cell_type": "markdown",
   "id": "ea7e0ea0-f7f5-4982-84e0-059998efa670",
   "metadata": {},
   "source": [
    "## Normalize images"
   ]
  },
  {
   "cell_type": "code",
   "execution_count": null,
   "id": "2dced2ad-46c9-488a-aef4-ddb1643d9843",
   "metadata": {
    "tags": []
   },
   "outputs": [],
   "source": [
    "# Subtract only laser background from pumped image\n",
    "for i, delay in enumerate(tqdm(data[scan_axis].values)):\n",
    "    data[\"images\"][i] = data[\"images\"][i] - (\n",
    "        dark_ol.sel(time=data.time[i], method=\"nearest\").images_mean\n",
    "    )\n",
    "\n",
    "    # Subtract dark background from only fel image\n",
    "    dark_of[\"images_mean\"][i] = (\n",
    "        dark_of[\"images_mean\"][i]\n",
    "        - dark_of.sel(time=dark.time[i], method=\"nearest\").images_mean\n",
    "    )\n",
    "\n",
    "# Normalize to laser fluences\n",
    "data[\"images\"] = data[\"images\"] / data[norm_key]\n",
    "dark_of[\"images_mean\"] = dark_of[\"images_mean\"] / dark_of[norm_key + \"_sum\"]\n",
    "\n",
    "# Subtract final background\n",
    "for i, delay in enumerate(tqdm(data[scan_axis].values)):\n",
    "    data[\"images\"][i] = data[\"images\"][i] - (\n",
    "        dark_of.sel(time=data.time[i], method=\"nearest\").images_mean\n",
    "    )\n",
    "    \n",
    "# Calc average image for each delay\n",
    "data[\"images_mean\"] = data[\"images\"].mean(\"index\")\n",
    "data[\"im_mean\"] = data.images_mean.mean(\"delay_idx\")\n",
    "im_mean = data[\"im_mean\"].values"
   ]
  },
  {
   "cell_type": "code",
   "execution_count": null,
   "id": "794906d0-a8df-4cff-b6d5-8a5428f5fb2b",
   "metadata": {
    "tags": []
   },
   "outputs": [],
   "source": [
    "# Plot images\n",
    "fig, ax = cimshow(data.images[2])\n",
    "fig.set_size_inches(6, 6)\n",
    "ax.set_title(\"Normalized Images\")"
   ]
  },
  {
   "cell_type": "code",
   "execution_count": null,
   "id": "72f2edcc-8344-46d1-93da-e92d440d3c1f",
   "metadata": {
    "tags": []
   },
   "outputs": [],
   "source": [
    "# Plot images\n",
    "fig, ax = cimshow(data.images_mean)\n",
    "fig.set_size_inches(6, 6)\n",
    "ax.set_title(\"Normalized Images\")"
   ]
  },
  {
   "cell_type": "code",
   "execution_count": null,
   "id": "18b483fe-1de7-4a82-a563-3a6fb130b47f",
   "metadata": {},
   "outputs": [],
   "source": [
    "# Plot images\n",
    "fig, ax = cimshow(data.images_mean.mean(\"delay_idx\"))\n",
    "fig.set_size_inches(6, 6)\n",
    "ax.set_title(\"Normalized Images\")"
   ]
  },
  {
   "cell_type": "markdown",
   "id": "772e60b9-29fb-487f-8b49-54613c10dfc9",
   "metadata": {},
   "source": [
    "## Draw beamstop mask"
   ]
  },
  {
   "cell_type": "code",
   "execution_count": null,
   "id": "aeaac1f6-691a-4bd9-b8ac-87b304732f01",
   "metadata": {},
   "outputs": [],
   "source": [
    "poly_mask = interactive.draw_polygon_mask(im_mean)"
   ]
  },
  {
   "cell_type": "code",
   "execution_count": null,
   "id": "8de85d18-150b-4012-b3fa-77686b35bec3",
   "metadata": {},
   "outputs": [],
   "source": [
    "# Take poly coordinates and mask from widget\n",
    "p_coord = poly_mask.coordinates\n",
    "mask = poly_mask.full_mask.astype(int)\n",
    "\n",
    "cimshow(mask)\n",
    "\n",
    "print(\"Mask coordinates: %s\" % p_coord)"
   ]
  },
  {
   "cell_type": "code",
   "execution_count": null,
   "id": "1da34efe-7e63-4039-a5b7-e92875aedd0e",
   "metadata": {},
   "outputs": [],
   "source": [
    "def load_poly_coordinates(polyname):\n",
    "    if polyname == \"bs_cross\":\n",
    "        coord = [\n",
    "            (946.9258289571189, 901.9078818510652),\n",
    "            (-13.52166457167948, 915.628560330048),\n",
    "            (-8.033393180086364, 1107.7180590358075),\n",
    "            (944.1816932613224, 1099.4856519484179),\n",
    "            (946.9258289571189, 1988.5856173865054),\n",
    "            (945.4332858438797, 2042.780748713184),\n",
    "            (1134.4167167610876, 2056.6765892218023),\n",
    "            (1145.5333891679823, 1092.305257923697),\n",
    "            (2007.0755007023129, 1106.2010984323151),\n",
    "            (2067.2340362524137, 1100.0546685633194),\n",
    "            (2067.2340362524137, 910.7093055533562),\n",
    "            (1147.9485781605636, 902.4768984659665),\n",
    "            (1153.4368495521567, -38.761645192255855),\n",
    "            (955.8590794548038, -22.296831017476507),\n",
    "        ]\n",
    "    elif polyname == \"bs_bar_delayscans\":\n",
    "        coord = [\n",
    "            (2067.431746885335, 938.380826986908),\n",
    "            (1998.8347372592004, 924.6614251397921),\n",
    "            (1946.7010099433378, 938.3808270650193),\n",
    "            (201.59308505446313, 954.8441093752917),\n",
    "            (-34.0757676448203, 955.1489845092347),\n",
    "            (-28.588006874729558, 1158.1961350015144),\n",
    "            (945.4895298163876, 1147.2206134613327),\n",
    "            (2062.858618967594, 1138.3792216748711),\n",
    "        ]\n",
    "\n",
    "    return coord"
   ]
  },
  {
   "cell_type": "code",
   "execution_count": null,
   "id": "bf03c25b-4c52-42eb-94c5-7a57c5903989",
   "metadata": {},
   "outputs": [],
   "source": [
    "# Which drawn masks do you want to load? (you can add multiple masks in list e.g. [\"bs_cross\",\"bs_bar_delayscans\"])\n",
    "polygon_names = [\"bs_cross\", \"bs_bar_delayscans\"]\n",
    "mask = load_poly_masks(polygon_names, im_mean.shape)\n",
    "\n",
    "fig, ax = plt.subplots(1, 2, figsize=(10, 5), sharex=True, sharey=True)\n",
    "mi, ma = np.percentile(im_mean, [1, 99])\n",
    "ax[0].imshow(im_mean * (1 - mask), vmin=mi, vmax=ma)\n",
    "ax[0].set_title(\"(1-mask)\")\n",
    "ax[1].imshow(im_mean * mask, vmin=mi, vmax=ma)\n",
    "ax[1].set_title(\"mask\")\n",
    "plt.tight_layout()"
   ]
  },
  {
   "cell_type": "markdown",
   "id": "5a782860-349b-411d-9ced-92ff426d01cb",
   "metadata": {},
   "source": [
    "## Find center"
   ]
  },
  {
   "cell_type": "markdown",
   "id": "587800cf-278c-4177-a123-494002473eb8",
   "metadata": {},
   "source": [
    "### Basic widget to find center\n",
    "\n",
    "Try to **align** the circles to the **center of the scattering pattern**. Care! Position of beamstop might be misleading and not represent the actual center of the hologram. "
   ]
  },
  {
   "cell_type": "code",
   "execution_count": null,
   "id": "1cdaca76-26dd-4b36-a84d-c92e668a7146",
   "metadata": {},
   "outputs": [],
   "source": [
    "# Set center position via widget\n",
    "ic = interactive.InteractiveCenter(im_mean)"
   ]
  },
  {
   "cell_type": "code",
   "execution_count": null,
   "id": "86663368-e900-4266-a54c-92ef20df65cd",
   "metadata": {},
   "outputs": [],
   "source": [
    "# Get center positions\n",
    "center = [ic.c0, ic.c1]\n",
    "print(f\"Center:\", center)"
   ]
  },
  {
   "cell_type": "markdown",
   "id": "f493d3af-cc8f-4204-9204-0351730dd2eb",
   "metadata": {},
   "source": [
    "### Azimuthal integrator widget for finetuning"
   ]
  },
  {
   "cell_type": "code",
   "execution_count": null,
   "id": "dd0560bd-3007-44e6-bc14-18ec593b51c4",
   "metadata": {},
   "outputs": [],
   "source": [
    "# Setup azimuthal integrator for virtual geometry\n",
    "ai = interactive.AzimuthalIntegrator(\n",
    "    dist=experimental_setup[\"ccd_dist\"],\n",
    "    detector=detector,\n",
    "    wavelength=experimental_setup[\"lambda\"],\n",
    "    poni1=center[0]\n",
    "    * experimental_setup[\"px_size\"]\n",
    "    * experimental_setup[\"binning\"],  # y (vertical)\n",
    "    poni2=center[1]\n",
    "    * experimental_setup[\"px_size\"]\n",
    "    * experimental_setup[\"binning\"],  # x (horizontal)\n",
    ")"
   ]
  },
  {
   "cell_type": "code",
   "execution_count": null,
   "id": "43f3ba94-25fa-4a27-b893-b769bbdc0902",
   "metadata": {},
   "outputs": [],
   "source": [
    "# Plotting to find  relevant q range\n",
    "I_t, q_t, phi_t = ai.integrate2d(\n",
    "    im_mean,\n",
    "    200,\n",
    "    radial_range=(0, 0.07),\n",
    "    unit=\"q_nm^-1\",\n",
    "    correctSolidAngle=False,\n",
    "    dummy=np.nan,\n",
    "    mask=mask,\n",
    ")\n",
    "az2d = xr.DataArray(I_t, dims=(\"phi\", \"q\"), coords={\"q\": q_t, \"phi\": phi_t})\n",
    "\n",
    "# Plot\n",
    "fig, ax = plt.subplots()\n",
    "mi, ma = np.nanpercentile(I_t, [1, 99])\n",
    "az2d.plot.imshow(ax=ax, vmin=mi, vmax=ma)\n",
    "plt.title(f\"Azimuthal integration\")\n",
    "\n",
    "# Vertical lines\n",
    "# q_lines = [0.025, 0.05]\n",
    "# for qt in q_lines:\n",
    "#    ax.axvline(qt, ymin=0, ymax=180, c=\"red\")"
   ]
  },
  {
   "cell_type": "code",
   "execution_count": null,
   "id": "25dda249-b3fc-4bbc-aa0c-94d00d9f9d2a",
   "metadata": {},
   "outputs": [],
   "source": [
    "aic = interactive.AzimuthalIntegrationCenter(\n",
    "    # np.log10(im_mean - np.min(im_mean) + 1),\n",
    "    im_mean,\n",
    "    ai,\n",
    "    c0=center[0],\n",
    "    c1=center[1],\n",
    "    mask=mask,\n",
    "    im_data_range=[1, 95],\n",
    "    radial_range=(0.003, 0.07),\n",
    "    qlines=[40, 60],\n",
    ")"
   ]
  },
  {
   "cell_type": "code",
   "execution_count": null,
   "id": "eaf6e0db-4c2f-4019-8580-3fec57f87d5d",
   "metadata": {},
   "outputs": [],
   "source": [
    "# Get center positions\n",
    "center = [aic.c0, aic.c1]\n",
    "print(f\"Center:\", center)"
   ]
  },
  {
   "cell_type": "markdown",
   "id": "a9129a01-2d97-4479-add2-b4c60418aff3",
   "metadata": {
    "tags": []
   },
   "source": [
    "# Azimuthal Integration"
   ]
  },
  {
   "cell_type": "code",
   "execution_count": null,
   "id": "77764fbf-c1d2-41b7-80d5-10bf0089ceec",
   "metadata": {},
   "outputs": [],
   "source": [
    "# Setup final azimuthal integrator for virtual geometry\n",
    "ai = interactive.AzimuthalIntegrator(\n",
    "    dist=experimental_setup[\"ccd_dist\"],\n",
    "    detector=detector,\n",
    "    wavelength=experimental_setup[\"lambda\"],\n",
    "    poni1=center[0]\n",
    "    * experimental_setup[\"px_size\"]\n",
    "    * experimental_setup[\"binning\"],  # y (vertical)\n",
    "    poni2=center[1]\n",
    "    * experimental_setup[\"px_size\"]\n",
    "    * experimental_setup[\"binning\"],  # x (horizontal)\n",
    ")"
   ]
  },
  {
   "cell_type": "code",
   "execution_count": null,
   "id": "7e6e13e5-6663-430c-af6a-1402f833f7be",
   "metadata": {},
   "outputs": [],
   "source": [
    "# Do 2d Azimuthal integration of all images and add to xarray\n",
    "list_i2d = []\n",
    "for im in tqdm(data[\"images\"].values):\n",
    "    i2d, q, chi = ai.integrate2d(im, 500, 90, dummy=np.nan, mask=mask)\n",
    "    list_i2d.append(i2d)\n",
    "\n",
    "# Setup xarray\n",
    "data[\"q\"] = q\n",
    "data[\"chi\"] = chi\n",
    "data[\"i2d\"] = xr.DataArray(list_i2d, dims=[\"index\", \"chi\", \"q\"])\n",
    "data = data.assign_attrs({\"center\": center})"
   ]
  },
  {
   "cell_type": "code",
   "execution_count": null,
   "id": "f3cda7b1-782e-40f8-9271-38c876678fbe",
   "metadata": {},
   "outputs": [],
   "source": []
  }
 ],
 "metadata": {
  "kernelspec": {
   "display_name": "Python 3 (ipykernel)",
   "language": "python",
   "name": "python3"
  },
  "language_info": {
   "codemirror_mode": {
    "name": "ipython",
    "version": 3
   },
   "file_extension": ".py",
   "mimetype": "text/x-python",
   "name": "python",
   "nbconvert_exporter": "python",
   "pygments_lexer": "ipython3",
   "version": "3.10.12"
  }
 },
 "nbformat": 4,
 "nbformat_minor": 5
}
