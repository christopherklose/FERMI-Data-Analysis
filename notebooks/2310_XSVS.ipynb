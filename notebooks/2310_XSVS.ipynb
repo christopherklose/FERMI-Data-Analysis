{
 "cells": [
  {
   "cell_type": "markdown",
   "id": "ca3cf2d7-2457-4192-a09d-17205316c390",
   "metadata": {},
   "source": [
    "# Imports\n",
    "\n",
    "Import python libraries as well as the self written FERMI library."
   ]
  },
  {
   "cell_type": "code",
   "execution_count": null,
   "id": "f23e3c2a-2ea2-4dd9-bbee-946f5ea2e63b",
   "metadata": {
    "tags": []
   },
   "outputs": [],
   "source": [
    "import sys, os\n",
    "from os.path import join, split\n",
    "from getpass import getuser\n",
    "from glob import glob\n",
    "from time import strftime\n",
    "from importlib import reload\n",
    "from tqdm.auto import tqdm\n",
    "import gc\n",
    "\n",
    "# data\n",
    "import numpy as np\n",
    "import xarray as xr\n",
    "import pandas as pd\n",
    "import h5py\n",
    "\n",
    "# Images\n",
    "import imageio\n",
    "from imageio import imread\n",
    "\n",
    "# Plotting\n",
    "import matplotlib.pyplot as plt\n",
    "from matplotlib.image import NonUniformImage\n",
    "import matplotlib.gridspec as gridspec\n",
    "from matplotlib.path import Path\n",
    "\n",
    "# pyFAI\n",
    "import pyFAI\n",
    "\n",
    "pyFAI.disable_opencl = True  # get rid of annoying warning ;)\n",
    "from pyFAI.azimuthalIntegrator import AzimuthalIntegrator\n",
    "from pyFAI.detectors import Detector\n",
    "\n",
    "# Scipy\n",
    "from scipy.ndimage import median_filter\n",
    "\n",
    "# Self-written libraries\n",
    "sys.path.append(os.path.abspath(join(os.pardir,\"process_FERMI\")))\n",
    "import helper_functions as helper\n",
    "import mask_lib\n",
    "import process_FERMI as pf\n",
    "import interactive\n",
    "from interactive import cimshow"
   ]
  },
  {
   "cell_type": "code",
   "execution_count": null,
   "id": "7eaab566-6897-4851-b873-c479ed2fe8cd",
   "metadata": {
    "tags": []
   },
   "outputs": [],
   "source": [
    "# interactive plotting\n",
    "import ipywidgets\n",
    "\n",
    "%matplotlib widget\n",
    "plt.rcParams[\"figure.constrained_layout.use\"] = True\n",
    "\n",
    "# Auto formatting of cells\n",
    "#%load_ext jupyter_black\n",
    "\n",
    "pd.set_option(\"display.max_colwidth\", None)"
   ]
  },
  {
   "cell_type": "markdown",
   "id": "c1f14226-52e7-4302-819e-4a978a5dc306",
   "metadata": {},
   "source": [
    "## Functions"
   ]
  },
  {
   "cell_type": "markdown",
   "id": "ad2fb9bc-0b70-4f08-98be-e49b28f31b9c",
   "metadata": {},
   "source": [
    "### Other"
   ]
  },
  {
   "cell_type": "code",
   "execution_count": null,
   "id": "185da7b5-970c-4efa-9870-f96dc6252022",
   "metadata": {
    "tags": []
   },
   "outputs": [],
   "source": [
    "def create_ringmask(ring_coordinates, shape):\n",
    "    # Create ring mask\n",
    "    ringmask = np.zeros(shape)\n",
    "    for i in range(len(ring_coordinates)):\n",
    "        ringmask += mask_lib.circle_mask(\n",
    "            ringmask.shape,\n",
    "            [ring_coordinates[i][0], ring_coordinates[i][1]],\n",
    "            ring_coordinates[i][2],\n",
    "        )\n",
    "\n",
    "    ringmask = np.abs(ringmask - len(ring_coordinates) - 1)\n",
    "    ringmask[ringmask == len(ring_coordinates) + 1] = 0\n",
    "    masks_ring = np.zeros((len(ring_coordinates), shape[0], shape[1]), dtype=bool)\n",
    "    for i in range(0, len(ring_coordinates)):\n",
    "        masks_ring[i] = ringmask == i\n",
    "\n",
    "    return ringmask, masks_ring"
   ]
  },
  {
   "cell_type": "code",
   "execution_count": null,
   "id": "7ce4acaa-62b2-468a-b501-df79531a89c0",
   "metadata": {
    "tags": []
   },
   "outputs": [],
   "source": [
    "def calc_delay_ps(exp):\n",
    "    exp[\"delay_ps\"] = np.round(6.67 * (exp[\"delay\"] - t0),1) -1   # + (640 - exp[\"global_delay\"])\n",
    "    return exp"
   ]
  },
  {
   "cell_type": "markdown",
   "id": "62594fbb-2fd5-421a-82dd-a84515b9dfa3",
   "metadata": {},
   "source": [
    "### Loading"
   ]
  },
  {
   "cell_type": "code",
   "execution_count": null,
   "id": "a9f596af-b1a1-49cb-9b43-e9690731c9da",
   "metadata": {
    "tags": []
   },
   "outputs": [],
   "source": [
    "def preprocess_exp(datafolder, extension, keys=None, sort=False):\n",
    "    \"\"\"\n",
    "    Loads log parameter and image file names, not the actual images\n",
    "    \"\"\"\n",
    "    \n",
    "    # Loading experiment data\n",
    "    print(\"Loading: %s\" % (datafolder + extension))\n",
    "    exp = pf.get_exp_dataframe(datafolder + extension, keys=keys)\n",
    "    for k in [\"xgm_UH\", \"xgm_SH\", \"diode_sum\"]:\n",
    "        exp[k + \"_sum\"] = exp[k].apply(np.sum)\n",
    "\n",
    "    exp[\"diode_sum_mean\"] = exp.diode_sum.apply(np.mean)\n",
    "    exp[\"diode_sum_sum\"] = exp.diode_sum.apply(np.sum)\n",
    "    exp[\"diode_sum_std\"] = exp.diode_sum.apply(np.std)\n",
    "    exp[\"IR_mean\"] = exp.IR.apply(np.mean)\n",
    "    exp[\"IR_std\"] = exp.IR.apply(np.std)\n",
    "    exp[\"magnet_mean\"] = exp.magnet.apply(np.mean)\n",
    "    exp[\"magnet_mean\"] = exp.magnet_mean.apply(np.round, args=(3,))\n",
    "    exp[\"bunchid\"] = exp.bunches.apply(lambda l: l[-1])\n",
    "\n",
    "    # Add delay\n",
    "    exp = calc_delay_ps(exp)\n",
    "\n",
    "    # Sort according to delay\n",
    "    if sort is True:\n",
    "        exp = exp.sort_values(scan_axis)\n",
    "    \n",
    "    return exp"
   ]
  },
  {
   "cell_type": "code",
   "execution_count": null,
   "id": "b6574f73-a546-480e-af0f-8529a6556ebf",
   "metadata": {},
   "outputs": [],
   "source": [
    "def load_images_into_xarry(exp, extra_keys=[]):\n",
    "    \"\"\"\n",
    "    Loads only images, scan_axis (e.g.,delay), basic filter keys (diode for I0)\n",
    "    and some specified extra keys into xarray\n",
    "    \"\"\"\n",
    "\n",
    "    # Loading image data\n",
    "    data = xr.Dataset()\n",
    "    data[\"images\"] = xr.DataArray(\n",
    "        [pf.loadh5(fname)[0].astype(np.float32) for fname in tqdm(exp[\"filename\"])],\n",
    "        dims=[\"file_idx\", \"frame_idx\", \"y\", \"x\"],\n",
    "    )\n",
    "    data[scan_axis] = xr.DataArray(\n",
    "        np.array(np.round(exp[scan_axis], 1)).astype(int), dims=[\"file_idx\"]\n",
    "    )  # in fs\n",
    "    data[filter_key] = xr.DataArray(\n",
    "        np.stack(exp[filter_key]), dims=[\"file_idx\", \"frame_idx\"]\n",
    "    )\n",
    "\n",
    "    if len(extra_keys) > 0:\n",
    "        for key in extra_keys:\n",
    "            stack  = np.stack(exp[key])\n",
    "\n",
    "            if stack.ndim == 1:\n",
    "                data[key] = xr.DataArray(\n",
    "                stack, dims=[\"file_idx\"]\n",
    "                )\n",
    "            elif stack.ndim == 2:\n",
    "                data[key] = xr.DataArray(\n",
    "                stack, dims=[\"file_idx\", \"frame_idx\"]\n",
    "                )\n",
    "            else:\n",
    "                print(\"Key: %s does not exist\"%key)\n",
    "    \n",
    "    return data"
   ]
  },
  {
   "cell_type": "code",
   "execution_count": null,
   "id": "7a044fa1-3665-4e2d-83d2-bb57c1652acd",
   "metadata": {
    "tags": []
   },
   "outputs": [],
   "source": [
    "def process_images(exp,extra_keys = []):\n",
    "    # Load data into xarray\n",
    "    data = load_images_into_xarry(exp, extra_keys=extra_keys)\n",
    "\n",
    "    # Basic filtering of images\n",
    "    data = filter_empty_images(data)\n",
    "\n",
    "    # Calc Averaged images and intensity\n",
    "    data[\"images_mean\"] = data[\"images\"].mean(\"frame_idx\")\n",
    "    data[filter_key + \"_sum\"] = data[filter_key].sum(\"frame_idx\")\n",
    "\n",
    "    data[\"time\"] = xr.DataArray(\n",
    "        np.repeat(np.array(exp[\"time\"])[:, np.newaxis], len(data[\"frame_idx\"]), axis=1),\n",
    "        dims=[\"file_idx\", \"frame_idx\"],\n",
    "    )\n",
    "\n",
    "    return data"
   ]
  },
  {
   "cell_type": "markdown",
   "id": "3027d0a8-8dcc-4acd-9e1b-3af2f7fb5193",
   "metadata": {},
   "source": [
    "## Filtering of images"
   ]
  },
  {
   "cell_type": "code",
   "execution_count": null,
   "id": "2eadc7f0-c216-495b-a516-740b3d2a2cac",
   "metadata": {
    "tags": []
   },
   "outputs": [],
   "source": [
    "def filter_empty_images(data):\n",
    "    \"\"\"\n",
    "    Filters entirely empty images without any counts\n",
    "    \"\"\"\n",
    "    print(\"Filtering empty images\")\n",
    "    \n",
    "    # Filter empty images\n",
    "    data[\"images_max\"] = data.images.max([\"y\", \"x\"])\n",
    "    data = data.where(data[\"images_max\"] > 1)\n",
    "\n",
    "    return data"
   ]
  },
  {
   "cell_type": "code",
   "execution_count": null,
   "id": "bebefb7b-4cd9-4bef-9b31-1a197938dffc",
   "metadata": {},
   "outputs": [],
   "source": [
    "def filter_false_images(images,filter_thres, NaNs = False):\n",
    "    # Calc Monitoring parameter\n",
    "    if NaNs is False:\n",
    "        image_mean = np.mean(images,axis = (-2,-1))\n",
    "        ensemble_mean = np.median(image_mean)\n",
    "        image_std = np.std(image_mean)\n",
    "    elif NaNs is True:\n",
    "        image_mean = np.nanmean(images,axis = (-2,-1))\n",
    "        ensemble_mean = np.nanmedian(image_mean)\n",
    "        image_std = np.nanstd(image_mean)\n",
    "        \n",
    "    # Filter\n",
    "    valid = np.abs(image_mean-ensemble_mean) < filter_thres * image_std\n",
    "\n",
    "    # Plot filter condition\n",
    "    fig, ax = plt.subplots()\n",
    "    ax.plot(image_mean,'o-')\n",
    "    ax.grid()\n",
    "    ax.set_xlabel(\"Image Index\")\n",
    "    ax.set_ylabel(\"Image Mean\")\n",
    "    ax.set_title(\"Check for inconsistencies of the averaged intensity\")\n",
    "    ax.axhline(ensemble_mean,0,images.shape[0],color = 'g',linestyle = '--')\n",
    "    ax.axhline((ensemble_mean + filter_thres*image_std),0,images.shape[0],color = 'r',linestyle = '--')\n",
    "    ax.axhline((ensemble_mean - filter_thres*image_std),0,images.shape[0],color = 'r',linestyle = '--')\n",
    "    \n",
    "    return valid"
   ]
  },
  {
   "cell_type": "markdown",
   "id": "b03be2e5-5396-4740-bde3-38d454a99740",
   "metadata": {},
   "source": [
    "# Experimental details"
   ]
  },
  {
   "cell_type": "code",
   "execution_count": null,
   "id": "a2dc923e-26eb-4737-8b61-668e7b7a5001",
   "metadata": {
    "tags": []
   },
   "outputs": [],
   "source": [
    "# Define basic folders\n",
    "BASEFOLDER = r\"/data/beamtimes/FERMI/2310_XPCS\"\n",
    "PROPOSAL = \"20224053\"\n",
    "USER = getuser()"
   ]
  },
  {
   "cell_type": "code",
   "execution_count": null,
   "id": "99e7eeea-f773-4a19-a480-7aa450db04ff",
   "metadata": {
    "tags": []
   },
   "outputs": [],
   "source": [
    "# Dict with most basic experimental parameter\n",
    "experimental_setup = {\n",
    "    \"px_size\": 11e-6,  # pixel_size of camera\n",
    "    \"binning\": 1,  # Camera binning\n",
    "}\n",
    "\n",
    "# Setup for azimuthal integrator\n",
    "detector = Detector(\n",
    "    experimental_setup[\"binning\"] * experimental_setup[\"px_size\"],\n",
    "    experimental_setup[\"binning\"] * experimental_setup[\"px_size\"],\n",
    ")\n",
    "\n",
    "# General saving folder\n",
    "folder_target = pf.create_folder(join(\"/data/export/cklose/2310_FERMI_Skyrmion\", \"Results\"))\n",
    "print(\"Output Folder: %s\" % folder_target)"
   ]
  },
  {
   "cell_type": "markdown",
   "id": "d61d3ca4-25ec-4d55-8bae-8541fe65096c",
   "metadata": {},
   "source": [
    "# Load Data"
   ]
  },
  {
   "cell_type": "markdown",
   "id": "3961f6d3-65ad-4dfa-acde-a63759a268ff",
   "metadata": {},
   "source": [
    "## Define Scan ids for loading"
   ]
  },
  {
   "cell_type": "code",
   "execution_count": null,
   "id": "9a485bb3-36fa-4b71-9be6-7e9a845d25d4",
   "metadata": {
    "tags": []
   },
   "outputs": [],
   "source": [
    "# Define for loading\n",
    "sample = \"Sample54\"\n",
    "membrane = \"H4\"\n",
    "scan_id = 161\n",
    "ACDC_delay = \"2p0ps\"\n",
    "scan = f\"%s_XPCS_FF_Delay_%s_Scan_Both_%03d\" % (membrane, ACDC_delay, scan_id)\n",
    "scan_axis = \"delay_ps\"\n",
    "\n",
    "# Time-zero for delay scans\n",
    "t0 = 7.25\n",
    "\n",
    "# Folder for loading\n",
    "samplefolder = join(sample, scan)\n",
    "datafolder = join(BASEFOLDER, samplefolder)\n",
    "extra_keys = {\n",
    "    \"diode_sum\": \"PAM/FQPDSum\",\n",
    "    \"IR\": \"Laser/Energy1\",\n",
    "    \"magnet\": \"DPI/CoilCurrent\",\n",
    "    \"magnet_waveform\": \"DPI/CoilWaveform\",\n",
    "    \"bunches\": \"bunches\",\n",
    "    \"time\": \"\",\n",
    "    \"samplex\": \"DPI/SampleX\",\n",
    "    \"sampley\": \"DPI/SampleY\",\n",
    "    \"ccdz\": \"DPI/CcdZ\",\n",
    "    \"global_delay\": \"Laser/DelayTotem\",\n",
    "}\n",
    "\n",
    "# Create savefolder\n",
    "fsave = helper.create_folder(join(folder_target, sample, membrane,\"XSVS\"))"
   ]
  },
  {
   "cell_type": "markdown",
   "id": "01bed7b2-04a1-4279-81ec-a6edb2b4a8c0",
   "metadata": {},
   "source": [
    "## Pumped images"
   ]
  },
  {
   "cell_type": "code",
   "execution_count": null,
   "id": "eab81461-0089-443d-9174-45bfbded813e",
   "metadata": {
    "tags": []
   },
   "outputs": [],
   "source": [
    "# Loading experiment data\n",
    "filter_key = \"diode_sum\"\n",
    "norm_key = \"diode_sum\"\n",
    "extension = \"\"\n",
    "exp = preprocess_exp(datafolder, extension, keys=extra_keys, sort = True)\n",
    "\n",
    "# Add wavelength\n",
    "experimental_setup[\"lambda\"] = exp[\"wavelength\"][0] * 1e-9\n",
    "experimental_setup[\"ccd_dist\"] = (exp[\"ccdz\"][0] + 50) * 1e-3\n",
    "\n",
    "# Load data\n",
    "data = process_images(exp.iloc[np.hstack([np.arange(0,60),np.arange(90,120)])], extra_keys = [\"diode_sum\",\"magnet\",\"diode_sum_mean\"])\n",
    "\n",
    "# All frames of a given file correspond to the same delay and recording time\n",
    "data[scan_axis] = data[scan_axis].mean(\"frame_idx\")\n",
    "data[\"time\"] = data[\"time\"].mean([\"frame_idx\"])\n",
    "print(\"Data loaded!\")\n",
    "data"
   ]
  },
  {
   "cell_type": "code",
   "execution_count": null,
   "id": "d0fb85f2-8dcc-4e0a-ae70-c5c74c9fe57a",
   "metadata": {
    "tags": []
   },
   "outputs": [],
   "source": [
    "# What did you scan?\n",
    "fig, ax = plt.subplots()\n",
    "ax.plot(np.arange(len(data[scan_axis])), data[scan_axis], \"-o\")\n",
    "ax.set_xlabel(\"file_idx\")\n",
    "ax.set_ylabel(scan_axis)\n",
    "ax.grid()"
   ]
  },
  {
   "cell_type": "code",
   "execution_count": null,
   "id": "fdbfc085-2ad2-4646-8e52-fe9976cae974",
   "metadata": {},
   "outputs": [],
   "source": [
    "# Monitoring plots\n",
    "fig, ax = plt.subplots(figsize=(8,6))\n",
    "\n",
    "for diode_sum in data.diode_sum.values:\n",
    "    ax.plot(diode_sum)\n",
    "\n",
    "ax.grid()"
   ]
  },
  {
   "cell_type": "code",
   "execution_count": null,
   "id": "fb6cd148-8459-4e92-ad6c-eeef0760761f",
   "metadata": {
    "tags": []
   },
   "outputs": [],
   "source": [
    "# Plot images\n",
    "fig, ax = cimshow(data[\"images\"][-1])\n",
    "fig.set_size_inches(6, 6)\n",
    "ax.set_title(\"Pumped Images\")"
   ]
  },
  {
   "cell_type": "markdown",
   "id": "6ce29c15-2739-45bd-af29-9710e4f98d18",
   "metadata": {},
   "source": [
    "## Dark images"
   ]
  },
  {
   "cell_type": "code",
   "execution_count": null,
   "id": "aaa156c4-5049-46d3-a88b-637abca949a6",
   "metadata": {
    "tags": []
   },
   "outputs": [],
   "source": [
    "# Loading experiment data\n",
    "extension = \"_BG\"\n",
    "exp_bg = preprocess_exp(datafolder, extension, keys=extra_keys)\n",
    "exp_bg = exp_bg.sort_values(\"time\")\n",
    "\n",
    "# Loading image data\n",
    "dark = process_images(exp_bg)\n",
    "print(\"Data loaded!\")"
   ]
  },
  {
   "cell_type": "code",
   "execution_count": null,
   "id": "15c011af-0259-4ac1-bce6-53c637ffb371",
   "metadata": {
    "tags": []
   },
   "outputs": [],
   "source": [
    "# Plot image sequence\n",
    "fig, ax = cimshow(dark[\"images\"][0])\n",
    "fig.set_size_inches(6, 6)\n",
    "ax.set_title(\"Dark Images\")"
   ]
  },
  {
   "cell_type": "code",
   "execution_count": null,
   "id": "c018a02b-399e-4d08-a87d-4fc359d85df2",
   "metadata": {},
   "outputs": [],
   "source": [
    "# Filter wrongly assigned frames, i.e., when shutter was not working correctly\n",
    "valid = filter_false_images(dark[\"images\"][0],2)"
   ]
  },
  {
   "cell_type": "code",
   "execution_count": null,
   "id": "f6068abc-e261-416c-a4b9-3332b7123d91",
   "metadata": {},
   "outputs": [],
   "source": [
    "# Drop invalid frames\n",
    "dark = dark.where(valid).dropna(dim=\"frame_idx\")\n",
    "dark[\"images_mean\"] = dark[\"images\"].mean([\"frame_idx\"])\n",
    "\n",
    "# Drop single frames\n",
    "dark[\"time\"] = dark[\"time\"].mean(\"frame_idx\")\n",
    "#dark = dark.drop_dims(\"frame_idx\")\n",
    "dark = dark.swap_dims({\"file_idx\": \"time\"})\n",
    "\n",
    "# Plot image\n",
    "fig, ax = cimshow(dark[\"images_mean\"])\n",
    "fig.set_size_inches(6, 6)\n",
    "ax.set_title(\"Dark Image\")"
   ]
  },
  {
   "cell_type": "markdown",
   "id": "d8367196-1bf9-42d9-973c-1710e3b23b02",
   "metadata": {},
   "source": [
    "## Laser only"
   ]
  },
  {
   "cell_type": "code",
   "execution_count": null,
   "id": "13453ad8-c871-444f-af03-f142cbc9bee9",
   "metadata": {
    "tags": []
   },
   "outputs": [],
   "source": [
    "# Loading experiment data\n",
    "extension = \"_OL\"\n",
    "exp_ol = preprocess_exp(datafolder, extension, keys=extra_keys)\n",
    "exp_ol = exp_ol.sort_values(\"time\")\n",
    "\n",
    "# Loading image data\n",
    "dark_ol = process_images(exp_ol)\n",
    "print(\"Data loaded!\")"
   ]
  },
  {
   "cell_type": "code",
   "execution_count": null,
   "id": "1bb6239e-c685-4a46-9985-561f588e2253",
   "metadata": {
    "tags": []
   },
   "outputs": [],
   "source": [
    "# Plot image sequence\n",
    "fig, ax = cimshow(dark_ol[\"images\"][0])\n",
    "fig.set_size_inches(6, 6)\n",
    "ax.set_title(\"Only Laser Images\")"
   ]
  },
  {
   "cell_type": "code",
   "execution_count": null,
   "id": "d0f23f9a-6aa4-45ff-befb-0e97d81bb91e",
   "metadata": {},
   "outputs": [],
   "source": [
    "# Filter wrongly assigned frames, i.e., when shutter was not working correctly\n",
    "valid = filter_false_images(dark_ol[\"images\"][0],2,NaNs=True)"
   ]
  },
  {
   "cell_type": "code",
   "execution_count": null,
   "id": "6fb3525f-d067-4734-afe5-198c6c1b5cd4",
   "metadata": {},
   "outputs": [],
   "source": [
    "# Drop invalid frames\n",
    "valid = xr.DataArray(valid,dims=[\"frame_idx\"])\n",
    "dark_ol = dark_ol.where(valid).dropna(dim=\"frame_idx\")\n",
    "dark_ol[\"images_mean\"] = dark_ol[\"images\"].mean([\"frame_idx\"])\n",
    "\n",
    "# Drop single frames\n",
    "dark_ol[\"time\"] = dark_ol[\"time\"].mean(\"frame_idx\")\n",
    "#dark_ol = dark_ol.drop_dims(\"frame_idx\")\n",
    "dark_ol = dark_ol.swap_dims({\"file_idx\": \"time\"})\n",
    "\n",
    "# Plot image\n",
    "fig, ax = cimshow(dark_ol[\"images_mean\"])\n",
    "fig.set_size_inches(6, 6)\n",
    "ax.set_title(\"Only Laser Image\")"
   ]
  },
  {
   "cell_type": "markdown",
   "id": "b8d8d5fb-9129-4788-a926-17a90864b464",
   "metadata": {},
   "source": [
    "## FEL only"
   ]
  },
  {
   "cell_type": "code",
   "execution_count": null,
   "id": "6fc49f5e-2490-4778-b413-6be41d69c2ae",
   "metadata": {
    "tags": []
   },
   "outputs": [],
   "source": [
    "# Loading experiment data\n",
    "extension = \"_OF\"\n",
    "exp_of = preprocess_exp(datafolder, extension, keys=extra_keys)\n",
    "exp_of = exp_of.sort_values(\"time\")\n",
    "\n",
    "# Loading image data\n",
    "dark_of = process_images(exp_of)\n",
    "print(\"Data loaded!\")"
   ]
  },
  {
   "cell_type": "code",
   "execution_count": null,
   "id": "ac243ebe-7cd1-4d35-8f3a-b249b8df8ef7",
   "metadata": {
    "tags": []
   },
   "outputs": [],
   "source": [
    "# Plot image sequence\n",
    "fig, ax = cimshow(dark_of[\"images\"][0])\n",
    "fig.set_size_inches(6, 6)\n",
    "ax.set_title(\"Only FEL Images\")"
   ]
  },
  {
   "cell_type": "code",
   "execution_count": null,
   "id": "14545df1-bb55-42a8-ac14-b3f9e48ffefa",
   "metadata": {},
   "outputs": [],
   "source": [
    "# Filter wrongly assigned frames, i.e., when shutter was not working correctly\n",
    "valid = filter_false_images(dark_of[\"images\"][0],2,NaNs=True)"
   ]
  },
  {
   "cell_type": "code",
   "execution_count": null,
   "id": "9cca9b0a-4cc1-4887-bced-047549e2d1d8",
   "metadata": {},
   "outputs": [],
   "source": [
    "# Drop invalid frames\n",
    "valid = xr.DataArray(valid,dims=[\"frame_idx\"])\n",
    "dark_of = dark_of.where(valid).dropna(dim=\"frame_idx\")\n",
    "dark_of[\"diode_sum_sum\"] = dark_of[\"diode_sum\"].sum([\"frame_idx\"])\n",
    "dark_of[\"diode_sum_mean\"] = dark_of[\"diode_sum\"].mean([\"frame_idx\"])\n",
    "dark_of[\"images_mean\"] = dark_of[\"images\"].mean([\"frame_idx\"])\n",
    "\n",
    "# Drop single frames\n",
    "dark_of[\"time\"] = dark_of[\"time\"].mean(\"frame_idx\")\n",
    "#dark_of = dark_of.drop_dims(\"frame_idx\")\n",
    "dark_of = dark_of.swap_dims({\"file_idx\": \"time\"})\n",
    "\n",
    "# Plot image\n",
    "fig, ax = cimshow(dark_of[\"images_mean\"])\n",
    "fig.set_size_inches(6, 6)\n",
    "ax.set_title(\"Only FEL Image\")"
   ]
  },
  {
   "cell_type": "markdown",
   "id": "2ec17a9a-2b66-43f0-ab4b-a54079eb3e72",
   "metadata": {},
   "source": [
    "# Preprocessing"
   ]
  },
  {
   "cell_type": "markdown",
   "id": "ea7e0ea0-f7f5-4982-84e0-059998efa670",
   "metadata": {},
   "source": [
    "## Subtract Dark Background"
   ]
  },
  {
   "cell_type": "code",
   "execution_count": null,
   "id": "8e874fde-0c0b-41e8-8439-0303755bc365",
   "metadata": {
    "tags": []
   },
   "outputs": [],
   "source": [
    "# Subtract only dark background from pumped images\n",
    "for i, delay in enumerate(tqdm(data[scan_axis].values)):\n",
    "    data[\"images\"][i] = data[\"images\"][i] - (\n",
    "        dark.sel(time=data.time[i], method=\"nearest\").images_mean\n",
    "    )\n",
    "# Just for a feedback plot\n",
    "data[\"images_mean\"] = data[\"images\"].mean([\"frame_idx\"])\n",
    "\n",
    "# Subtract only dark background from only laser image\n",
    "for i, delay in enumerate(tqdm(dark_ol[\"time\"].values)):\n",
    "    dark_ol[\"images\"][i] = dark_ol[\"images\"][i] - (\n",
    "        dark.sel(time=dark_ol.time[i], method=\"nearest\").images_mean\n",
    "    )\n",
    "# Just for a feedback plot\n",
    "dark_ol[\"images_mean\"] = dark_ol[\"images\"].mean([\"frame_idx\"])\n",
    "\n",
    "# Subtract only dark background from only FEL image\n",
    "for i, delay in enumerate(tqdm(dark_of[\"time\"].values)):\n",
    "    dark_of[\"images\"][i] = dark_of[\"images\"][i] - (\n",
    "        dark.sel(time=dark_of.time[i], method=\"nearest\").images_mean\n",
    "    )\n",
    "# Just for a feedback plot\n",
    "dark_of[\"images_mean\"] = dark_of[\"images\"].mean([\"frame_idx\"])"
   ]
  },
  {
   "cell_type": "markdown",
   "id": "85606dd3-b84c-4690-ba9b-47324ba60580",
   "metadata": {},
   "source": [
    "### Feedback Images"
   ]
  },
  {
   "cell_type": "code",
   "execution_count": null,
   "id": "a696f474-07d4-42c5-a16b-8449fce11154",
   "metadata": {
    "tags": []
   },
   "outputs": [],
   "source": [
    "# Plot images\n",
    "fig, ax = cimshow(data[\"images\"][-1])\n",
    "fig.set_size_inches(6, 6)\n",
    "ax.set_title(\"Pumped Single Images for one delay\")"
   ]
  },
  {
   "cell_type": "code",
   "execution_count": null,
   "id": "cd01bb8d-f452-4ef2-9f0f-436e0b4909d6",
   "metadata": {
    "tags": []
   },
   "outputs": [],
   "source": [
    "# Plot images\n",
    "fig, ax = cimshow(data[\"images_mean\"])\n",
    "fig.set_size_inches(6, 6)\n",
    "ax.set_title(\"Pumped Images for all delays as slideshow\")"
   ]
  },
  {
   "cell_type": "code",
   "execution_count": null,
   "id": "f865826d-199c-4cb6-ae65-466ea471293b",
   "metadata": {
    "tags": []
   },
   "outputs": [],
   "source": [
    "# Plot image sequence\n",
    "fig, ax = cimshow(dark_ol[\"images\"][0])\n",
    "fig.set_size_inches(6, 6)\n",
    "ax.set_title(\"Only Laser Images\")"
   ]
  },
  {
   "cell_type": "code",
   "execution_count": null,
   "id": "3e2d4e8a-519c-46be-b83a-c628e32f9825",
   "metadata": {
    "tags": []
   },
   "outputs": [],
   "source": [
    "# Plot image sequence\n",
    "fig, ax = cimshow(dark_ol[\"images_mean\"][0])\n",
    "fig.set_size_inches(6, 6)\n",
    "ax.set_title(\"Only Laser Images\")"
   ]
  },
  {
   "cell_type": "code",
   "execution_count": null,
   "id": "dbbb6710-c9f6-483f-b86c-939e18e9c93a",
   "metadata": {
    "tags": []
   },
   "outputs": [],
   "source": [
    "# Plot image sequence\n",
    "fig, ax = cimshow(dark_of[\"images\"][0])\n",
    "fig.set_size_inches(6, 6)\n",
    "ax.set_title(\"Only FEL Images\")"
   ]
  },
  {
   "cell_type": "code",
   "execution_count": null,
   "id": "73e92346-bde0-4381-a9ab-ffa29bc2388f",
   "metadata": {
    "tags": []
   },
   "outputs": [],
   "source": [
    "# Plot image sequence\n",
    "fig, ax = cimshow(dark_of[\"images_mean\"][0])\n",
    "fig.set_size_inches(6, 6)\n",
    "ax.set_title(\"Only FEL averaged Image\")"
   ]
  },
  {
   "cell_type": "markdown",
   "id": "4cd3af4c-278f-42ea-bea7-b9309d58c215",
   "metadata": {},
   "source": [
    "### Feedback Plots"
   ]
  },
  {
   "cell_type": "code",
   "execution_count": null,
   "id": "3ebc6a46-e14e-4b16-a984-3b85109b46c7",
   "metadata": {},
   "outputs": [],
   "source": [
    "# Histograms of all image types\n",
    "# Histogram parameter\n",
    "delay_idx_list = [-1,50,1]\n",
    "start = -40\n",
    "end = 40\n",
    "nr_steps = 200 \n",
    "bins = np.linspace(start,end,nr_steps)\n",
    "\n",
    "# Calc Histograms\n",
    "#hist_dark, _ = np.histogram(dark[\"images_mean\"][0],bins = bins,density=True)\n",
    "hist_of, _ = np.histogram(dark_of[\"images\"][0].values.ravel(),bins = bins,density=True)\n",
    "hist_ol, _ = np.histogram(dark_ol[\"images\"][0].values.ravel(),bins = bins,density=True)\n",
    "\n",
    "# Plotting\n",
    "fig, ax = plt.subplots(2,1,figsize=(8,6))\n",
    "ax[0].set_title(\"Histogram of frames\")\n",
    "ax[1].set_title(\"Deviation from only-FEL histogram\")\n",
    "for delay_idx in delay_idx_list:\n",
    "    hist_image, _ = np.histogram(data[\"images\"][delay_idx].values.ravel(),bins = bins,density=True)\n",
    "    ax[0].bar(bins[1:],hist_image,width=(end-start)/200, label=\"Image Delay: %d ps\"%data[\"delay_ps\"][delay_idx],alpha = 0.25)\n",
    "    ax[1].plot(bins[1:],hist_image-hist_of,label=\"Image Delay: %d ps\"%data[\"delay_ps\"][delay_idx])\n",
    "ax[0].bar(bins[1:],hist_ol,width=(end-start)/200, label=\"Only Laser\",alpha = 0.25)\n",
    "ax[0].bar(bins[1:],hist_of,width=(end-start)/200, label=\"Only FEL\",alpha = 0.25)\n",
    "ax[1].plot(bins[1:],hist_ol-hist_of,label=\"Only Laser\")\n",
    "#ax.hist(dark[\"images_mean\"][0].values.ravel(),500, label=\"Dark\")\n",
    "\n",
    "ax[0].set_ylabel(\"Frequency\")\n",
    "ax[1].set_xlabel(\"Counts\")\n",
    "ax[1].set_ylabel(\"Probability deviation\")\n",
    "ax[0].grid()\n",
    "ax[1].grid()\n",
    "ax[0].set_yscale(\"log\")\n",
    "ax[0].legend()\n",
    "ax[1].legend()"
   ]
  },
  {
   "cell_type": "markdown",
   "id": "ff1cd430-b850-4b62-86c3-8756430b16b0",
   "metadata": {},
   "source": [
    "## Normalize and remove all backgrounds from pumped images "
   ]
  },
  {
   "cell_type": "code",
   "execution_count": null,
   "id": "a9c98a0c-89a9-4d63-97e1-0b55bfe7d0d1",
   "metadata": {
    "tags": []
   },
   "outputs": [],
   "source": [
    "# Subtract only laser background from pumped image\n",
    "for i, delay in enumerate(tqdm(data[scan_axis].values)):\n",
    "    data[\"images\"][i] = data[\"images\"][i] - (\n",
    "        dark_ol.sel(time=data.time[i], method=\"nearest\").images_mean\n",
    "    )\n",
    "\n",
    "# Normalize to laser fluences\n",
    "data[\"images\"] = data[\"images\"] / data[norm_key]\n",
    "dark_of[\"images\"] = dark_of[\"images\"] / dark_of[norm_key] #all frames are normalized individually\n",
    "dark_of[\"images_mean\"] = dark_of[\"images\"].mean([\"frame_idx\"])\n",
    "\n",
    "# Subtract final background\n",
    "for i, delay in enumerate(tqdm(data[scan_axis].values)):\n",
    "    data[\"images\"][i] = data[\"images\"][i] - (\n",
    "        dark_of.sel(time=data.time[i], method=\"nearest\").images_mean\n",
    "    )"
   ]
  },
  {
   "cell_type": "code",
   "execution_count": null,
   "id": "794906d0-a8df-4cff-b6d5-8a5428f5fb2b",
   "metadata": {
    "tags": []
   },
   "outputs": [],
   "source": [
    "# Show images of which file?\n",
    "file_idx = -1\n",
    "\n",
    "# Plot images\n",
    "fig, ax = cimshow(data.images[file_idx])\n",
    "fig.set_size_inches(6, 6)\n",
    "ax.set_title(\"Images of delay: %.2f ps\" % data[scan_axis][file_idx].values)"
   ]
  },
  {
   "cell_type": "code",
   "execution_count": null,
   "id": "28cbfeb0-ecde-48b3-98a6-5ffa97979df3",
   "metadata": {
    "tags": []
   },
   "outputs": [],
   "source": [
    "# Calc average image for each delay\n",
    "data[\"images_mean\"] = data[\"images\"].mean(\"frame_idx\")\n",
    "data[\"im_mean\"] = data.images_mean.mean(\"file_idx\")\n",
    "im_mean = data[\"im_mean\"].values\n",
    "\n",
    "print(\"Done!\")"
   ]
  },
  {
   "cell_type": "markdown",
   "id": "772e60b9-29fb-487f-8b49-54613c10dfc9",
   "metadata": {},
   "source": [
    "## Draw beamstop mask"
   ]
  },
  {
   "cell_type": "code",
   "execution_count": null,
   "id": "aeaac1f6-691a-4bd9-b8ac-87b304732f01",
   "metadata": {
    "tags": []
   },
   "outputs": [],
   "source": [
    "poly_mask = interactive.draw_polygon_mask(data.im_mean)"
   ]
  },
  {
   "cell_type": "code",
   "execution_count": null,
   "id": "8de85d18-150b-4012-b3fa-77686b35bec3",
   "metadata": {
    "tags": []
   },
   "outputs": [],
   "source": [
    "# Take poly coordinates and mask from widget\n",
    "p_coord = poly_mask.get_vertice_coordinates()\n",
    "mask = poly_mask.full_mask.astype(int)\n",
    "\n",
    "cimshow(mask)\n",
    "\n",
    "print(\"Mask coordinates: %s\" % p_coord)"
   ]
  },
  {
   "cell_type": "code",
   "execution_count": null,
   "id": "3b102204-8fe1-42ee-8a8d-70d2c332d5e9",
   "metadata": {
    "tags": []
   },
   "outputs": [],
   "source": [
    "def load_poly_coordinates():\n",
    "    \"\"\"\n",
    "    Dictionary that stores polygon corner coordinates of all drawn masks\n",
    "    Example: How to add masks with name \"test\":\n",
    "    mask_coordinates[\"test\"] = copy coordinates from above\n",
    "    \"\"\"\n",
    "\n",
    "    # Setup dictonary\n",
    "    mask_coordinates = dict()\n",
    "\n",
    "    mask_coordinates[\"bs_cross\"] = [[(2064.9, -23.5), (-23.3, -34.8), (-53.0, 10.5), (1977.6, 69.7), (1978.7, 613.6), (569.6, 610.3), (-58.1, 599.2), (-49.9, 744.6), (1632.1, 739.1), (2166.8, 760.3), (2166.8, 367.2)]]\n",
    "\n",
    "    return mask_coordinates"
   ]
  },
  {
   "cell_type": "code",
   "execution_count": null,
   "id": "7becb8fc-086d-44a8-962d-8b682abc9480",
   "metadata": {
    "tags": []
   },
   "outputs": [],
   "source": [
    "# Which drawn masks do you want to load? (you can add multiple masks in list e.g. [\"bs_cross\",\"bs_bar_delayscans\"])\n",
    "polygon_names = [\"bs_cross\"] \n",
    "mask = mask_lib.load_poly_masks(im_mean.shape,load_poly_coordinates(),polygon_names)\n",
    "\n",
    "# Additional manual masking of vertical stripes\n",
    "mask[:,45:55] = 1\n",
    "mask[:,160:170] = 1\n",
    "mask[:,182:198] = 1\n",
    "mask[:,1046:1047] = 1\n",
    "mask[:,1215:1216] = 1\n",
    "mask[:,1672:1673] = 1\n",
    "mask[:,1784:1795] = 1"
   ]
  },
  {
   "cell_type": "code",
   "execution_count": null,
   "id": "49194736-69ab-4bf4-afdb-b1451a0eb06d",
   "metadata": {
    "tags": []
   },
   "outputs": [],
   "source": [
    "data[\"mask\"] = xr.DataArray(mask, dims=[\"y\", \"x\"])\n",
    "print(\"Mask == 1 areas will be excluded in azimuthal integrator\")\n",
    "\n",
    "fig, ax = plt.subplots(1, 2, figsize=(10, 5), sharex=True, sharey=True)\n",
    "mi, ma = np.percentile(im_mean, [30, 70])\n",
    "ax[0].imshow(im_mean * (1 - mask), vmin=mi, vmax=ma)\n",
    "ax[0].set_title(\"(1-mask)\")\n",
    "ax[1].imshow(im_mean * mask, vmin=mi, vmax=ma)\n",
    "ax[1].set_title(\"mask\")"
   ]
  },
  {
   "cell_type": "code",
   "execution_count": null,
   "id": "3d25ba9c-4803-4520-9119-656f7d0a988a",
   "metadata": {
    "tags": []
   },
   "outputs": [],
   "source": [
    "# Apply mask\n",
    "sel = np.logical_not(data[\"mask\"])\n",
    "data[\"images\"] = data[\"images\"].where(sel, other = np.nan)\n",
    "dark_ol[\"images\"] = dark_ol[\"images\"].where(sel, other = np.nan)\n",
    "dark_of[\"images\"] = dark_of[\"images\"].where(sel, other = np.nan)"
   ]
  },
  {
   "cell_type": "code",
   "execution_count": null,
   "id": "211d0969-65f4-48b1-860c-98878ecde6aa",
   "metadata": {
    "tags": []
   },
   "outputs": [],
   "source": [
    "# Plot images\n",
    "fig, ax = cimshow(data.images[0])\n",
    "fig.set_size_inches(6, 6)\n",
    "ax.set_title(\"Averaged image of each delay\")"
   ]
  },
  {
   "cell_type": "code",
   "execution_count": null,
   "id": "da403b02-edf0-4ef3-8478-33145bea2fff",
   "metadata": {},
   "outputs": [],
   "source": [
    "# Histograms of all image types\n",
    "# Histogram parameter\n",
    "delay_idx_list = [-1,50,1]\n",
    "start = -0.1\n",
    "end = 0.1\n",
    "nr_steps = 200 \n",
    "bins = np.linspace(start,end,nr_steps)\n",
    "\n",
    "# Calc Histograms\n",
    "#hist_dark, _ = np.histogram(dark[\"images_mean\"][0],bins = bins,density=True)\n",
    "temp_data = dark_of[\"images\"][0].values.ravel()\n",
    "hist_of, _ = np.histogram(temp_data[~np.isnan(temp_data)],bins = bins,density=True)\n",
    "#hist_ol, _ = np.histogram(dark_ol[\"images\"][0].values.ravel(),bins = bins,density=True)\n",
    "\n",
    "# Plotting\n",
    "fig, ax = plt.subplots(2,1,figsize=(8,6))\n",
    "ax[0].set_title(\"Histogram of frames\")\n",
    "ax[1].set_title(\"Deviation from only-FEL histogram\")\n",
    "for delay_idx in delay_idx_list:\n",
    "    temp_data = data[\"images\"][delay_idx].values.ravel()\n",
    "    hist_image, _ = np.histogram(temp_data[~np.isnan(temp_data)],bins = bins,density=True)\n",
    "    ax[0].bar(bins[1:],hist_image,width=(end-start)/200, label=\"Image Delay: %d ps\"%data[\"delay_ps\"][delay_idx],alpha = 0.25)\n",
    "    ax[1].plot(bins[1:],hist_image-hist_of,label=\"Image Delay: %d ps\"%data[\"delay_ps\"][delay_idx])\n",
    "#ax[0].bar(bins[1:],hist_ol,width=(end-start)/200, label=\"Only Laser\",alpha = 0.25)\n",
    "ax[0].bar(bins[1:],hist_of,width=(end-start)/200, label=\"Only FEL\",alpha = 0.25)\n",
    "#ax[1].plot(bins[1:],hist_ol-hist_of,label=\"Only Laser\")\n",
    "#ax.hist(dark[\"images_mean\"][0].values.ravel(),500, label=\"Dark\")\n",
    "\n",
    "ax[0].set_ylabel(\"Frequency\")\n",
    "ax[1].set_xlabel(\"Counts\")\n",
    "ax[1].set_ylabel(\"Probability deviation\")\n",
    "ax[0].grid()\n",
    "ax[1].grid()\n",
    "ax[0].set_yscale(\"log\")\n",
    "ax[0].legend()\n",
    "ax[1].legend()"
   ]
  },
  {
   "cell_type": "markdown",
   "id": "b0e8d1d9-c094-43a3-a4f0-e965426f7a1a",
   "metadata": {},
   "source": [
    "## Reorganize data xarray"
   ]
  },
  {
   "cell_type": "code",
   "execution_count": null,
   "id": "c67d18c7-c9f9-4d02-a10e-c3816363ade2",
   "metadata": {},
   "outputs": [],
   "source": [
    "# Group according to new coordinate delay in ps\n",
    "new_data = []\n",
    "for label, group in list(data.groupby(\"delay_ps\")):\n",
    "    group = group.expand_dims(dim=\"delay_ps_coord\")\n",
    "    group[\"delay_ps_coord\"] = [label]\n",
    "    new_data.append(group)\n",
    "data = xr.concat(new_data,dim=\"delay_ps_coord\")\n",
    "\n",
    "# Combine file_idx and frame_idx\n",
    "data = data.stack(delay_frame_tuple = (\"file_idx\",\"frame_idx\"))\n",
    "\n",
    "# Replace entangled variables\n",
    "data[\"delay_frame_idx\"] = xr.DataArray(np.arange(data[\"delay_frame_tuple\"].shape[0]),dims=[\"delay_frame_tuple\"])\n",
    "data = data.swap_dims({\"delay_frame_tuple\":\"delay_frame_idx\"})\n",
    "\n",
    "# Process images\n",
    "data[\"images_mean\"] = data[\"images\"].mean(\"delay_frame_idx\")\n",
    "data[\"im_mean\"] = data[\"images_mean\"].mean(\"delay_ps_coord\")\n",
    "data[\"images\"] = data[\"images\"].transpose(\"delay_ps_coord\",\"delay_frame_idx\",\"y\",\"x\")\n",
    "\n",
    "del new_data, group\n",
    "gc.collect()\n",
    "\n",
    "data"
   ]
  },
  {
   "cell_type": "code",
   "execution_count": null,
   "id": "96533b20-2e8c-4d23-bea4-83ccba693cd2",
   "metadata": {},
   "outputs": [],
   "source": [
    "fig, ax = cimshow(data[\"images_mean\"])\n",
    "ax.set_title(\"Pumped Images grouped for different delays\")"
   ]
  },
  {
   "cell_type": "markdown",
   "id": "9f7e1e54-0076-4b13-b8d8-7b599033421a",
   "metadata": {},
   "source": [
    "## Filtering of images with too high or low intensity"
   ]
  },
  {
   "cell_type": "markdown",
   "id": "8c6419a3-9fed-4be7-8eb4-d6c0697763ff",
   "metadata": {},
   "source": [
    "### Find Standard Deviation threshold"
   ]
  },
  {
   "cell_type": "code",
   "execution_count": null,
   "id": "2c94b71c-f339-4807-b30f-84f549231221",
   "metadata": {},
   "outputs": [],
   "source": [
    "# Filter wrongly assigned frames, i.e., when shutter was not working correctly\n",
    "std_thres = [2,1,1]\n",
    "for i, delay in enumerate(data[\"delay_ps_coord\"].values):\n",
    "    valid = filter_false_images(data[\"images\"][i],std_thres[i],NaNs=True)"
   ]
  },
  {
   "cell_type": "code",
   "execution_count": null,
   "id": "9e0717b1-0d50-4c77-b3df-1086e6af2085",
   "metadata": {},
   "outputs": [],
   "source": [
    "# View faulty frames\n",
    "fig, ax = cimshow(data[\"images\"][-1])"
   ]
  },
  {
   "cell_type": "markdown",
   "id": "7417ce5a-0575-4bdf-b7a9-8acfd0f22751",
   "metadata": {},
   "source": [
    "### Apply filtering"
   ]
  },
  {
   "cell_type": "code",
   "execution_count": null,
   "id": "94ee3ad5-4905-4119-ac44-6b14b2566e2c",
   "metadata": {},
   "outputs": [],
   "source": [
    "# Filter wrongly assigned frames, i.e., when shutter was not working correctly\n",
    "for i, delay in enumerate(data[\"delay_ps_coord\"].values):\n",
    "    valid = filter_false_images(data[\"images\"][i],std_thres[i],NaNs=True)\n",
    "    valid = xr.DataArray(valid,dims=[\"delay_frame_idx\"])\n",
    "\n",
    "    # Drop invalid frames\n",
    "    data[\"images\"][i] = data[\"images\"][i].where(valid)\n",
    "    \n",
    "data[\"images_mean\"] = data[\"images\"].mean([\"delay_frame_idx\"])"
   ]
  },
  {
   "cell_type": "markdown",
   "id": "5a782860-349b-411d-9ced-92ff426d01cb",
   "metadata": {},
   "source": [
    "## Find center"
   ]
  },
  {
   "cell_type": "markdown",
   "id": "587800cf-278c-4177-a123-494002473eb8",
   "metadata": {},
   "source": [
    "### Basic widget to find center\n",
    "\n",
    "Try to **align** the circles to the **center of the scattering pattern**. Care! Position of beamstop might be misleading and not represent the actual center of the hologram. "
   ]
  },
  {
   "cell_type": "code",
   "execution_count": null,
   "id": "1cdaca76-26dd-4b36-a84d-c92e668a7146",
   "metadata": {
    "tags": []
   },
   "outputs": [],
   "source": [
    "# Set center position via widget\n",
    "ic = interactive.InteractiveCenter(data.images_mean[-1], c0 = -77, c1 = 2081, rBS = 250)"
   ]
  },
  {
   "cell_type": "code",
   "execution_count": null,
   "id": "86663368-e900-4266-a54c-92ef20df65cd",
   "metadata": {
    "tags": []
   },
   "outputs": [],
   "source": [
    "# Get center positions\n",
    "center = [ic.c0, ic.c1]\n",
    "print(f\"Center:\", center)"
   ]
  },
  {
   "cell_type": "markdown",
   "id": "f493d3af-cc8f-4204-9204-0351730dd2eb",
   "metadata": {},
   "source": [
    "### Azimuthal integrator widget for finetuning"
   ]
  },
  {
   "cell_type": "code",
   "execution_count": null,
   "id": "dd0560bd-3007-44e6-bc14-18ec593b51c4",
   "metadata": {
    "tags": []
   },
   "outputs": [],
   "source": [
    "# Setup azimuthal integrator for virtual geometry\n",
    "ai = interactive.AzimuthalIntegrator(\n",
    "    dist=experimental_setup[\"ccd_dist\"],\n",
    "    detector=detector,\n",
    "    wavelength=experimental_setup[\"lambda\"],\n",
    "    poni1=center[0]\n",
    "    * experimental_setup[\"px_size\"]\n",
    "    * experimental_setup[\"binning\"],  # y (vertical)\n",
    "    poni2=center[1]\n",
    "    * experimental_setup[\"px_size\"]\n",
    "    * experimental_setup[\"binning\"],  # x (horizontal)\n",
    ")"
   ]
  },
  {
   "cell_type": "code",
   "execution_count": null,
   "id": "43f3ba94-25fa-4a27-b893-b769bbdc0902",
   "metadata": {
    "tags": []
   },
   "outputs": [],
   "source": [
    "# Plotting to find  relevant q range\n",
    "I_t, q_t, phi_t = ai.integrate2d(\n",
    "    np.mean(data.images_mean.values[-29:],axis=0),\n",
    "    200,\n",
    "    radial_range=(0, 0.11),\n",
    "    unit=\"q_nm^-1\",\n",
    "    correctSolidAngle=False,\n",
    "    dummy=np.nan,\n",
    "    mask=mask,\n",
    "    method= \"bbox\"\n",
    ")\n",
    "az2d = xr.DataArray(I_t, dims=(\"phi\", \"q\"), coords={\"q\": q_t, \"phi\": phi_t})\n",
    "\n",
    "# Plot\n",
    "fig, ax = plt.subplots()\n",
    "mi, ma = np.nanpercentile(I_t, [10, 90])\n",
    "az2d.plot.imshow(ax=ax, vmin=mi, vmax=ma)\n",
    "plt.title(f\"Azimuthal integration\")\n",
    "\n",
    "# Vertical lines\n",
    "# q_lines = [0.025, 0.05]\n",
    "# for qt in q_lines:\n",
    "#    ax.axvline(qt, ymin=0, ymax=180, c=\"red\")"
   ]
  },
  {
   "cell_type": "code",
   "execution_count": null,
   "id": "25dda249-b3fc-4bbc-aa0c-94d00d9f9d2a",
   "metadata": {
    "tags": []
   },
   "outputs": [],
   "source": [
    "aic = interactive.AzimuthalIntegrationCenter(\n",
    "    # np.log10(im_mean - np.min(im_mean) + 1),\n",
    "    data.images_mean[-1].values,\n",
    "    ai,\n",
    "    c0=center[0],\n",
    "    c1=center[1],\n",
    "    mask=mask,\n",
    "    im_data_range=[20, 80],\n",
    "    radial_range=(0.015, 0.08),\n",
    "    qlines=[40, 60],\n",
    ")"
   ]
  },
  {
   "cell_type": "code",
   "execution_count": null,
   "id": "eaf6e0db-4c2f-4019-8580-3fec57f87d5d",
   "metadata": {
    "tags": []
   },
   "outputs": [],
   "source": [
    "# Get center positions\n",
    "center = [aic.c0, aic.c1]\n",
    "data = data.assign_attrs({\"center\": center})\n",
    "print(f\"Center:\", center)"
   ]
  },
  {
   "cell_type": "markdown",
   "id": "ae973460-8401-475e-bbc1-dade3be41251",
   "metadata": {},
   "source": [
    "# X-ray speckle visibility spectroscopy (XSVS)"
   ]
  },
  {
   "cell_type": "markdown",
   "id": "0290cf82-1401-4b3d-bc2c-722aeafe7ab4",
   "metadata": {},
   "source": [
    "## Setup ring mask"
   ]
  },
  {
   "cell_type": "code",
   "execution_count": null,
   "id": "b71a88ae-626e-4a64-8caa-af7ed2d57192",
   "metadata": {
    "tags": []
   },
   "outputs": [],
   "source": [
    "# How many rings do you want?\n",
    "nr_rings = 14\n",
    "\n",
    "# Setup coordinates\n",
    "ring_coordinates = [[center[0], center[1], (k + 1) * 150] for k in range(nr_rings + 1)]"
   ]
  },
  {
   "cell_type": "code",
   "execution_count": null,
   "id": "38647551-c42d-4b8b-a469-dc8d23309b0b",
   "metadata": {
    "tags": []
   },
   "outputs": [],
   "source": [
    "def get_ringmask_coordinates(ring_name):\n",
    "    if ring_name == \"xsvs_test\":\n",
    "        ring_coord = [\n",
    "            [256.0, 1024.0, 200.0],\n",
    "            [256, 1024, 400],\n",
    "            [256, 1024, 600],\n",
    "            [256, 1024, 800],\n",
    "            [256, 1024, 1000],\n",
    "            [256, 1024, 1200],\n",
    "        ]\n",
    "    return ring_coord"
   ]
  },
  {
   "cell_type": "code",
   "execution_count": null,
   "id": "7bb57ee8-f32c-43d0-b8f0-f3ec87aab15a",
   "metadata": {
    "tags": []
   },
   "outputs": [],
   "source": [
    "# Which sample do you study? (\"GdFe\", \"Permalloy\", \"YIG\")\n",
    "ring_name = \"xsvs_test\"\n",
    "\n",
    "# Get coordinates\n",
    "ring_coordinates = get_ringmask_coordinates(ring_name)\n",
    "nr_rings = len(ring_coordinates)"
   ]
  },
  {
   "cell_type": "code",
   "execution_count": null,
   "id": "fc2be252-7d91-4a0f-bc44-fbef705f54ea",
   "metadata": {
    "tags": []
   },
   "outputs": [],
   "source": [
    "# Widget to find the positions and sizes of the different apertures\n",
    "ds = interactive.InteractiveCircleCoordinates(\n",
    "    data.images_mean[-1].values,\n",
    "    nr_rings,\n",
    "    coordinates=ring_coordinates.copy(),\n",
    ")"
   ]
  },
  {
   "cell_type": "code",
   "execution_count": null,
   "id": "5e91b9e7-2661-4af8-a277-a27e89c0870d",
   "metadata": {
    "tags": []
   },
   "outputs": [],
   "source": [
    "# Take coordinates of circles from widget\n",
    "ring_coordinates = ds.c_yxr\n",
    "\n",
    "# Create mask\n",
    "ringmask, masks_ring = create_ringmask(ring_coordinates, data.im_mean.shape)\n",
    "\n",
    "# Add beamstop mask\n",
    "ringmask = ringmask * (1 - mask)\n",
    "masks_ring = masks_ring * (1 - mask)\n",
    "\n",
    "# Add to xarray\n",
    "data[\"ringmask\"] = xr.DataArray(ringmask, dims=[\"y\", \"x\"])\n",
    "\n",
    "# Plot\n",
    "tmp = data.im_mean.values\n",
    "fig, ax = plt.subplots(figsize=(6, 6))\n",
    "mi, ma = np.nanpercentile(\n",
    "    tmp[tmp != 0],\n",
    "    (1, 85),\n",
    ")\n",
    "ax.imshow(\n",
    "    tmp,\n",
    "    vmin=mi,\n",
    "    vmax=ma,\n",
    ")\n",
    "ax.imshow(ringmask, alpha=0.2, cmap=\"flag\")\n",
    "ax.set_title(\"Image with overlayed mask\")\n",
    "\n",
    "# Save figure\n",
    "fname = join(fsave, \"XSVS_ID_%s_qrings_%s.png\" % (scan_id, USER))\n",
    "print(\"Saving: %s\" % fname)\n",
    "plt.savefig(fname)"
   ]
  },
  {
   "cell_type": "markdown",
   "id": "564d538f-25d4-4ffb-86de-05648451827e",
   "metadata": {},
   "source": [
    "## Mean intensity and brightest pixel of each ring"
   ]
  },
  {
   "cell_type": "code",
   "execution_count": null,
   "id": "e2a7594e-61a3-4bfd-8cde-647596f92ab6",
   "metadata": {
    "tags": []
   },
   "outputs": [],
   "source": [
    "# Setup\n",
    "ring_mean = np.zeros((nr_rings, len(data[\"delay_ps_coord\"]), len(data[\"delay_frame_idx\"])))\n",
    "max_cts = np.zeros_like((ring_mean))\n",
    "min_cts = np.zeros_like((ring_mean))\n",
    "\n",
    "# Loop over rings\n",
    "for i in tqdm(range(nr_rings)):\n",
    "    # Indices of ringmask\n",
    "    idx = np.argwhere((ringmask == i))\n",
    "\n",
    "    # Calc only if slices are not empty\n",
    "    if idx.size > 0:\n",
    "        array_slices = data[\"images\"].values[...,idx[:,0],idx[:,1]]\n",
    "    \n",
    "        # Mean intensity\n",
    "        ring_mean[i] = np.nanmean(array_slices,axis=-1)\n",
    "    \n",
    "        # Brightest pixel\n",
    "        max_cts[i] = np.nanmax(array_slices,axis=-1)\n",
    "    \n",
    "        # Darkest pixel\n",
    "        min_cts[i] = np.nanmin(array_slices,axis=-1)\n",
    "\n",
    "\n",
    "# Remove infs\n",
    "#max_cts[np.isinf(max_cts)] = 0\n",
    "#min_cts[np.isinf(min_cts)] = 0\n",
    "\n",
    "# Assign to xarray\n",
    "data[\"ring_mean\"] = xr.DataArray(ring_mean, dims=[\"q_ring\", \"delay_ps_coord\", \"delay_frame_idx\"])\n",
    "data[\"max_cts\"] = xr.DataArray(max_cts, dims=[\"q_ring\", \"delay_ps_coord\", \"delay_frame_idx\"])\n",
    "data[\"min_cts\"] = xr.DataArray(min_cts, dims=[\"q_ring\", \"delay_ps_coord\", \"delay_frame_idx\"])"
   ]
  },
  {
   "cell_type": "code",
   "execution_count": null,
   "id": "39405b8e-f9cf-4ce0-bcd1-7de9634dce9c",
   "metadata": {
    "tags": []
   },
   "outputs": [],
   "source": [
    "# Nr of Columns and rows\n",
    "columns = 3\n",
    "row = len(data[\"delay_ps_coord\"])\n",
    "\n",
    "fig, ax = plt.subplots(row, columns, figsize=(4 * columns, 4 * row))\n",
    "# Loop over different delays\n",
    "for i, delay in enumerate(tqdm(data[\"delay_ps_coord\"].values)):\n",
    "    ax[i, 0].set_title(\"Delay Idx: %d\" % delay)\n",
    "    ax[i, 0].set_xlabel(\"Delay frame_idx\")\n",
    "    ax[i, 0].set_ylabel(\"Mean Intensity\")\n",
    "\n",
    "    ax[i, 1].set_title(\"Delay Idx: %d\" % delay)\n",
    "    ax[i, 1].set_xlabel(\"frame_idx\")\n",
    "    ax[i, 1].set_ylabel(\"Max Intensity\")\n",
    "\n",
    "    ax[i, 2].set_title(\"Delay Idx: %d\" % delay)\n",
    "    ax[i, 2].set_xlabel(\"frame_idx\")\n",
    "    ax[i, 2].set_ylabel(\"Min Intensity\")\n",
    "\n",
    "    # Plotting loop\n",
    "    for k, ring in enumerate(data[\"q_ring\"].values[2:]):\n",
    "        # Mean intensity\n",
    "        ax[i, 0].plot(\n",
    "            data[\"delay_frame_idx\"].values,\n",
    "            data[\"ring_mean\"].sel(q_ring=ring, delay_ps_coord=delay).values,\n",
    "            label=\"qring = %d\" % ring,\n",
    "        )\n",
    "        # Max intensity\n",
    "        ax[i, 1].plot(\n",
    "            data[\"delay_frame_idx\"].values,\n",
    "            data[\"max_cts\"].sel(q_ring=ring, delay_ps_coord=delay).values,\n",
    "            label=\"qring = %d\" % ring,\n",
    "        )\n",
    "        #Min intensity\n",
    "        ax[i, 2].plot(\n",
    "            data[\"delay_frame_idx\"].values,\n",
    "            data[\"min_cts\"].sel(q_ring=ring, delay_ps_coord=delay).values,\n",
    "            label=\"qring = %d\" % ring,\n",
    "        )\n",
    "    \n",
    "    ax[i, 0].legend(prop={'size': 6})\n",
    "    ax[i, 1].legend(prop={'size': 6})\n",
    "    ax[i, 2].legend(prop={'size': 6})\n",
    "    ax[i, 0].grid()\n",
    "    ax[i, 1].grid()\n",
    "    ax[i, 2].grid()"
   ]
  },
  {
   "cell_type": "code",
   "execution_count": null,
   "id": "51c81420-68e5-47ee-aeb4-12c6d46b9a11",
   "metadata": {
    "tags": []
   },
   "outputs": [],
   "source": [
    "# Nr of Columns and rows\n",
    "columns = 3\n",
    "row = len(data[\"q_ring\"][2:])\n",
    "\n",
    "fig, ax = plt.subplots(row, columns, figsize=(4 * columns, 4 * row))\n",
    "# Loop over different delays\n",
    "for i, ring in enumerate(data[\"q_ring\"].values[2:]):\n",
    "\n",
    "    ax[i, 0].set_title(\"QRing: %d\" % ring)\n",
    "    ax[i, 0].set_xlabel(\"Delay frame_idx\")\n",
    "    ax[i, 0].set_ylabel(\"Mean Intensity\")\n",
    "\n",
    "    ax[i, 0].set_title(\"QRing: %d\" % ring)\n",
    "    ax[i, 1].set_xlabel(\"frame_idx\")\n",
    "    ax[i, 1].set_ylabel(\"Max Intensity\")\n",
    "\n",
    "    ax[i, 0].set_title(\"QRing: %d\" % ring)\n",
    "    ax[i, 2].set_xlabel(\"frame_idx\")\n",
    "    ax[i, 2].set_ylabel(\"Min Intensity\")\n",
    "\n",
    "    # Plotting loop\n",
    "    for k, delay in enumerate(tqdm(data[\"delay_ps_coord\"].values)):\n",
    "        # Mean intensity\n",
    "        ax[i, 0].plot(\n",
    "            data[\"delay_frame_idx\"].values,\n",
    "            data[\"ring_mean\"].sel(q_ring=ring, delay_ps_coord=delay).values,\n",
    "            label=\"Delay = %d ps\" % delay,\n",
    "        )\n",
    "        # Max intensity\n",
    "        ax[i, 1].plot(\n",
    "            data[\"delay_frame_idx\"].values,\n",
    "            data[\"max_cts\"].sel(q_ring=ring, delay_ps_coord=delay).values,\n",
    "            label=\"Delay = %d ps\" % delay,\n",
    "        )\n",
    "        #Min intensity\n",
    "        ax[i, 2].plot(\n",
    "            data[\"delay_frame_idx\"].values,\n",
    "            data[\"min_cts\"].sel(q_ring=ring, delay_ps_coord=delay).values,\n",
    "            label=\"Delay = %d ps\" % delay,\n",
    "        )\n",
    "    \n",
    "    ax[i, 0].legend(prop={'size': 6})\n",
    "    ax[i, 1].legend(prop={'size': 6})\n",
    "    ax[i, 2].legend(prop={'size': 6})\n",
    "    ax[i, 0].grid()\n",
    "    ax[i, 1].grid()\n",
    "    ax[i, 2].grid()"
   ]
  },
  {
   "cell_type": "markdown",
   "id": "b8fc440a-1920-4dc6-8d5c-e166afd73a46",
   "metadata": {
    "tags": []
   },
   "source": [
    "## Create bin edges"
   ]
  },
  {
   "cell_type": "code",
   "execution_count": null,
   "id": "0bcaefda-8064-4ff0-bbbf-344935d6d7c6",
   "metadata": {
    "tags": []
   },
   "outputs": [],
   "source": [
    "# Constant spacing\n",
    "nr_bins = 100\n",
    "photon_bins = 1\n",
    "\n",
    "bin_edges = np.linspace(\n",
    "    data[\"min_cts\"].min().values,\n",
    "    data[\"max_cts\"].max().values,\n",
    "    nr_bins,\n",
    ")\n",
    "\n",
    "bin_edges = np.linspace(-0.1, 0.5, nr_bins)\n",
    "\n",
    "\n",
    "if len(bin_edges) > 1e5:\n",
    "    print(\"Warning! Too many bins for plotting!\")\n",
    "\n",
    "# Clear existing bin axis\n",
    "if \"bins\" in data.keys():\n",
    "    data = data.drop_dims(\"bins\")\n",
    "\n",
    "# Add as new xarray coordinate\n",
    "data[\"bins\"] = bin_edges[1:]\n",
    "\n",
    "fig, ax = plt.subplots()\n",
    "ax.plot(bin_edges, \"o-\")\n",
    "ax.set_xlabel(\"frame_idx\")\n",
    "ax.set_ylabel(\"Bin edge\")"
   ]
  },
  {
   "cell_type": "markdown",
   "id": "c37e6d02-e820-42b8-a541-ceabec8cd422",
   "metadata": {},
   "source": [
    "## Do the x-ray speckle visibility spectroscopy"
   ]
  },
  {
   "cell_type": "code",
   "execution_count": null,
   "id": "1b10dd6b-a028-4694-bee4-dd5c513066d9",
   "metadata": {
    "tags": []
   },
   "outputs": [],
   "source": [
    "photon_stat = np.zeros(\n",
    "    (\n",
    "        len(data[\"delay_ps_coord\"]),\n",
    "        len(data[\"delay_frame_idx\"]),\n",
    "        len(data[\"q_ring\"]),\n",
    "        len(data[\"bins\"]),\n",
    "    )\n",
    ")\n",
    "\n",
    "# Loop over q-rings\n",
    "for k, ring in enumerate(tqdm(data[\"q_ring\"].values)):\n",
    "    idx = np.argwhere((ringmask == ring))\n",
    "\n",
    "    # Calc only if slices are not empty\n",
    "    if idx.size > 0:\n",
    "        # Loop over delays\n",
    "        for i, delay in enumerate(data[\"delay_ps_coord\"].values):\n",
    "            # Loop over image frame_indices\n",
    "            for j, frame in enumerate(data[\"delay_frame_idx\"].values):\n",
    "                photon_stat[i, j, k], _ = np.histogram(\n",
    "                    data.images.values[i, j, idx[:,0],idx[:,1]],\n",
    "                    bin_edges,\n",
    "                    density=True,\n",
    "                )\n",
    "                #photon_stat[i, j, k] = photon_stat[i, j, k] / np.sum(photon_stat[i, j, k])\n",
    "\n",
    "# Assign to xarray and average over all files\n",
    "data[\"photon_stat\"] = xr.DataArray(\n",
    "    photon_stat, dims=[\"delay_ps_coord\", \"delay_frame_idx\", \"q_ring\", \"bins\"]\n",
    ")\n",
    "data[\"photon_stat_mean\"] = data[\"photon_stat\"].mean(\"delay_frame_idx\")\n",
    "data[\"photon_stat_std\"] = data[\"photon_stat\"].std(\"delay_frame_idx\")"
   ]
  },
  {
   "cell_type": "code",
   "execution_count": null,
   "id": "3d1c8d13-9227-4348-9e5c-9bf5157561eb",
   "metadata": {
    "tags": []
   },
   "outputs": [],
   "source": [
    "fields = [\n",
    "    \"photon_stat\",\n",
    "    \"photon_stat_mean\",\n",
    "    \"photon_stat_std\",\n",
    "    \"ring_mean\",\n",
    "    str(scan_axis),\n",
    "]\n",
    "plotting = data[fields]\n",
    "plotting[\"photon_stat\"] = plotting[\"photon_stat\"].mean(\"delay_frame_idx\")\n",
    "plotting[\"ring_mean\"] = plotting[\"ring_mean\"].mean(\"delay_frame_idx\")\n",
    "#plotting = plotting.groupby(scan_axis).mean()\n",
    "plotting"
   ]
  },
  {
   "cell_type": "markdown",
   "id": "227db20f-3472-434d-ab7d-1777c891b50e",
   "metadata": {},
   "source": [
    "## Plot results of each q-ring"
   ]
  },
  {
   "cell_type": "code",
   "execution_count": null,
   "id": "e71b7244-2f82-4854-aa37-6ef395945e90",
   "metadata": {
    "tags": []
   },
   "outputs": [],
   "source": [
    "# Plot with errorbars?\n",
    "error_bars = False\n",
    "\n",
    "# Columns and rows\n",
    "columns = 3\n",
    "row = int(np.ceil(nr_rings / columns))\n",
    "# row = 1\n",
    "\n",
    "fig = plt.figure(figsize=(3.5 * columns, 3.5 * row))\n",
    "# fig.suptitle(\"%s: %s\" % (sample_scan, \"{:.0e}\".format(sample[sample_scan].values)))\n",
    "# fig.suptitle(\"%s: %s\" % (sample_scan, \"{:.0e}\".format(setup[sample_scan])))\n",
    "\n",
    "# Loop over rings\n",
    "k = 0\n",
    "for i in range(nr_rings):\n",
    "    axes = fig.add_subplot(row, columns, k + 1)\n",
    "    # axes.set_title(\"Q \"+ '%.3f  '%(q_ring_center[i])+ r'$\\AA^{-1}$')\n",
    "    axes.set_title(\"q-Ring: %s\" % i)\n",
    "    axes.set_xlabel(\"K/<K>\")\n",
    "    axes.set_ylabel(\"P(K)\")\n",
    "\n",
    "    # Loop over delays\n",
    "    for j, delay in enumerate(plotting[\"delay_ps_coord\"].values):\n",
    "        if error_bars is True:\n",
    "            art = axes.errorbar(\n",
    "                plotting[\"bins\"].values / plotting.ring_mean[i,j].values,\n",
    "                plotting[\"photon_stat_mean\"][j, i].values,\n",
    "                plotting[\"photon_stat_std\"][j, i].values,\n",
    "                fmt=\"-o\",\n",
    "                label=\"%.2f t.u.\" % delay,\n",
    "            )\n",
    "        else:\n",
    "            art = axes.plot(\n",
    "                plotting[\"bins\"].values / plotting.ring_mean[i, j].values,\n",
    "                plotting[\"photon_stat_mean\"][j, i].values,\n",
    "                \"-o\",\n",
    "                label=\"%.2f t.u.\" % delay,\n",
    "            )\n",
    "    axes.set_xlim(-400, 600)\n",
    "    #axes.set_xlim(-0.1, 0.2)\n",
    "    #axes.set_xscale(\"log\")\n",
    "    axes.legend()\n",
    "    axes.grid()\n",
    "    k = k + 1\n",
    "plt.show()\n",
    "\n",
    "fname = join(fsave, \"XSVS_%s.png\" % scan)\n",
    "print(\"Saving: %s\" % fname)\n",
    "plt.savefig(fname)"
   ]
  },
  {
   "cell_type": "code",
   "execution_count": null,
   "id": "f3cda7b1-782e-40f8-9271-38c876678fbe",
   "metadata": {},
   "outputs": [],
   "source": []
  }
 ],
 "metadata": {
  "kernelspec": {
   "display_name": "Python [conda env:klose-2309-cuda_ck]",
   "language": "python",
   "name": "conda-env-klose-2309-cuda_ck-py"
  },
  "language_info": {
   "codemirror_mode": {
    "name": "ipython",
    "version": 3
   },
   "file_extension": ".py",
   "mimetype": "text/x-python",
   "name": "python",
   "nbconvert_exporter": "python",
   "pygments_lexer": "ipython3",
   "version": "3.11.5"
  }
 },
 "nbformat": 4,
 "nbformat_minor": 5
}
